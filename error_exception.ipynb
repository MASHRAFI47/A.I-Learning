{
  "nbformat": 4,
  "nbformat_minor": 0,
  "metadata": {
    "colab": {
      "provenance": []
    },
    "kernelspec": {
      "name": "python3",
      "display_name": "Python 3"
    },
    "language_info": {
      "name": "python"
    }
  },
  "cells": [
    {
      "cell_type": "code",
      "execution_count": 6,
      "metadata": {
        "id": "8gOF-iiZgAV5",
        "colab": {
          "base_uri": "https://localhost:8080/"
        },
        "outputId": "5b32c00f-3ccf-493a-f060-00263eb06199"
      },
      "outputs": [
        {
          "output_type": "stream",
          "name": "stdout",
          "text": [
            "You can't divide the number with zero\n",
            "Hello World\n"
          ]
        }
      ],
      "source": [
        "\n",
        "try:\n",
        "  a = 10/0\n",
        "  print(a)\n",
        "except ZeroDivisionError:\n",
        "  print(\"You can't divide the number with zero\")\n",
        "\n",
        "print(\"Hello World\")"
      ]
    },
    {
      "cell_type": "code",
      "source": [
        "try:\n",
        "  x = z\n",
        "except ZeroDivisionError:\n",
        "  print(\"You can't divide the number with zero\")\n",
        "except NameError:\n",
        "  print(\"You can't assign a variable with another none variable\")\n"
      ],
      "metadata": {
        "id": "7xIw7n5pbUr0",
        "colab": {
          "base_uri": "https://localhost:8080/"
        },
        "outputId": "bdc3b00b-c3ba-44ad-cbfd-8c3b8ab506e7"
      },
      "execution_count": 15,
      "outputs": [
        {
          "output_type": "stream",
          "name": "stdout",
          "text": [
            "You can't assign a variable with another none variable\n"
          ]
        }
      ]
    },
    {
      "cell_type": "code",
      "source": [
        "try:\n",
        "  x = z\n",
        "except ZeroDivisionError:\n",
        "  print(\"You can't divide the number with zero\")\n",
        "except NameError as ne:\n",
        "  print(ne)\n"
      ],
      "metadata": {
        "colab": {
          "base_uri": "https://localhost:8080/"
        },
        "id": "s1uQt2F4bwBR",
        "outputId": "44ab2599-4963-4922-e9a3-4b81b23a3b2a"
      },
      "execution_count": 16,
      "outputs": [
        {
          "output_type": "stream",
          "name": "stdout",
          "text": [
            "name 'z' is not defined\n"
          ]
        }
      ]
    },
    {
      "cell_type": "code",
      "source": [
        "try:\n",
        "  x = z\n",
        "except Exception as e:\n",
        "  print(e)\n"
      ],
      "metadata": {
        "colab": {
          "base_uri": "https://localhost:8080/"
        },
        "id": "mrUZPgL4cUVQ",
        "outputId": "7f184647-14a9-4f1f-e0fa-1cc4655389f8"
      },
      "execution_count": 17,
      "outputs": [
        {
          "output_type": "stream",
          "name": "stdout",
          "text": [
            "name 'z' is not defined\n"
          ]
        }
      ]
    },
    {
      "cell_type": "code",
      "source": [
        "try:\n",
        "  with open(\"./sample_data/data.txt\", \"r\") as file:\n",
        "    file.read()\n",
        "except Exception as e:\n",
        "  print(e)"
      ],
      "metadata": {
        "colab": {
          "base_uri": "https://localhost:8080/"
        },
        "id": "O3OICtdYck3F",
        "outputId": "1b231f4b-ea5f-40cc-e1f9-7be87c3f925b"
      },
      "execution_count": 22,
      "outputs": [
        {
          "output_type": "stream",
          "name": "stdout",
          "text": [
            "[Errno 2] No such file or directory: './sample_data/data.txt'\n"
          ]
        }
      ]
    },
    {
      "cell_type": "code",
      "source": [
        "try:\n",
        "  with open(\"./sample_data/data.txt\", \"r\") as file:\n",
        "    file.read()\n",
        "except Exception as e:\n",
        "  print(e)\n",
        "else:\n",
        "  print(file.read())"
      ],
      "metadata": {
        "colab": {
          "base_uri": "https://localhost:8080/",
          "height": 180
        },
        "id": "vhNAhDYJc7tU",
        "outputId": "69f46d78-a9ca-4d1b-93dc-31015d678883"
      },
      "execution_count": 25,
      "outputs": [
        {
          "output_type": "error",
          "ename": "ValueError",
          "evalue": "I/O operation on closed file.",
          "traceback": [
            "\u001b[0;31m---------------------------------------------------------------------------\u001b[0m",
            "\u001b[0;31mValueError\u001b[0m                                Traceback (most recent call last)",
            "\u001b[0;32m/tmp/ipython-input-213410768.py\u001b[0m in \u001b[0;36m<cell line: 0>\u001b[0;34m()\u001b[0m\n\u001b[1;32m      5\u001b[0m   \u001b[0mprint\u001b[0m\u001b[0;34m(\u001b[0m\u001b[0me\u001b[0m\u001b[0;34m)\u001b[0m\u001b[0;34m\u001b[0m\u001b[0;34m\u001b[0m\u001b[0m\n\u001b[1;32m      6\u001b[0m \u001b[0;32melse\u001b[0m\u001b[0;34m:\u001b[0m\u001b[0;34m\u001b[0m\u001b[0;34m\u001b[0m\u001b[0m\n\u001b[0;32m----> 7\u001b[0;31m   \u001b[0mprint\u001b[0m\u001b[0;34m(\u001b[0m\u001b[0mfile\u001b[0m\u001b[0;34m.\u001b[0m\u001b[0mread\u001b[0m\u001b[0;34m(\u001b[0m\u001b[0;34m)\u001b[0m\u001b[0;34m)\u001b[0m\u001b[0;34m\u001b[0m\u001b[0;34m\u001b[0m\u001b[0m\n\u001b[0m",
            "\u001b[0;31mValueError\u001b[0m: I/O operation on closed file."
          ]
        }
      ]
    },
    {
      "cell_type": "code",
      "source": [
        "try:\n",
        "  file = open(\"./sample_data/data.txt\", \"r\")\n",
        "except Exception as e:\n",
        "  print(e)\n",
        "else:\n",
        "  print(file.read())\n",
        "finally:\n",
        "  print(\"Gpu is stopped\")"
      ],
      "metadata": {
        "colab": {
          "base_uri": "https://localhost:8080/"
        },
        "id": "3Fl-N0lKdk6X",
        "outputId": "18aade16-1a92-4647-bb6a-a5377de6f309"
      },
      "execution_count": 27,
      "outputs": [
        {
          "output_type": "stream",
          "name": "stdout",
          "text": [
            "Hello world\n",
            "Gpu is stopped\n"
          ]
        }
      ]
    },
    {
      "cell_type": "code",
      "source": [],
      "metadata": {
        "id": "ZtQlGR97eAXS"
      },
      "execution_count": null,
      "outputs": []
    }
  ]
}