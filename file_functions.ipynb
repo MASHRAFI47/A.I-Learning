{
  "nbformat": 4,
  "nbformat_minor": 0,
  "metadata": {
    "colab": {
      "provenance": []
    },
    "kernelspec": {
      "name": "python3",
      "display_name": "Python 3"
    },
    "language_info": {
      "name": "python"
    }
  },
  "cells": [
    {
      "cell_type": "code",
      "execution_count": null,
      "metadata": {
        "colab": {
          "base_uri": "https://localhost:8080/"
        },
        "id": "3EtLZTSRkbl6",
        "outputId": "1a06a269-cacf-41ee-d891-eeef2f8bac6a"
      },
      "outputs": [
        {
          "output_type": "stream",
          "name": "stdout",
          "text": [
            "<class 'str'>\n",
            "Hello World\n",
            "Welcome to phitron AIML\n",
            "False\n"
          ]
        }
      ],
      "source": [
        "file = open(\"./sample_data/sample.txt\", \"r\")\n",
        "content = file.read()\n",
        "\n",
        "print(type(content))\n",
        "print(content)\n",
        "\n",
        "print(file.closed) #check if the file is still open or closed"
      ]
    },
    {
      "cell_type": "code",
      "source": [
        "file = open(\"./sample_data/sample.txt\", \"r\")\n",
        "content = file.readlines() #get the content in list based\n",
        "\n",
        "print(type(content))\n",
        "print(content)\n",
        "\n",
        "print(file.closed) #check if the file is still open or closed"
      ],
      "metadata": {
        "colab": {
          "base_uri": "https://localhost:8080/"
        },
        "id": "wso0bO61kneF",
        "outputId": "f72731b5-4100-4720-b536-dc3885a9a743"
      },
      "execution_count": null,
      "outputs": [
        {
          "output_type": "stream",
          "name": "stdout",
          "text": [
            "<class 'list'>\n",
            "['Hello World\\n', 'Welcome to phitron AIML']\n",
            "False\n"
          ]
        }
      ]
    },
    {
      "cell_type": "code",
      "source": [
        "file = open(\"./sample_data/sample.txt\", \"r\")\n",
        "content = file.read()\n",
        "\n",
        "print(content)\n",
        "\n",
        "file.close()\n",
        "\n",
        "print(file.closed) #check if the file is still open or closed\n",
        "\n"
      ],
      "metadata": {
        "colab": {
          "base_uri": "https://localhost:8080/"
        },
        "id": "NuoL-BF2k8ob",
        "outputId": "b0ba3657-a3f9-4441-b9b9-973b871939be"
      },
      "execution_count": null,
      "outputs": [
        {
          "output_type": "stream",
          "name": "stdout",
          "text": [
            "Hello World\n",
            "Welcome to phitron AIML\n",
            "True\n"
          ]
        }
      ]
    },
    {
      "cell_type": "code",
      "source": [
        "with open(\"./sample_data/sample.txt\", \"r\") as file:\n",
        "  content = file.read()\n",
        "  print(content)\n",
        "\n",
        "\n",
        "print(file.closed) #auto close file when using with"
      ],
      "metadata": {
        "colab": {
          "base_uri": "https://localhost:8080/"
        },
        "id": "sEWJ_9IYlSZc",
        "outputId": "6fa2c435-42f1-493b-d90c-e91faa7ceed0"
      },
      "execution_count": null,
      "outputs": [
        {
          "output_type": "stream",
          "name": "stdout",
          "text": [
            "Hello World\n",
            "Welcome to phitron AIML\n",
            "True\n"
          ]
        }
      ]
    },
    {
      "cell_type": "code",
      "source": [
        "with open(\"./sample_data/sample.txt\", \"r\") as file:\n",
        "  for line in file:\n",
        "    print(line, end=\"\")"
      ],
      "metadata": {
        "colab": {
          "base_uri": "https://localhost:8080/"
        },
        "id": "kTG3Hd-JpILD",
        "outputId": "5f9e4c36-b6b5-4e7d-9ca0-bcae5c99a2c8"
      },
      "execution_count": null,
      "outputs": [
        {
          "output_type": "stream",
          "name": "stdout",
          "text": [
            "Hello World\n",
            "Welcome to phitron AIML"
          ]
        }
      ]
    },
    {
      "cell_type": "code",
      "source": [
        "### WRITING ON A NEW FILE"
      ],
      "metadata": {
        "id": "45z8sXN2Ho1u"
      },
      "execution_count": null,
      "outputs": []
    },
    {
      "cell_type": "code",
      "source": [
        "with open(\"./sample_data/sample.txt\", \"r\") as file:\n",
        "  for line in file:\n",
        "    l = line.strip()\n",
        "    print(l)"
      ],
      "metadata": {
        "colab": {
          "base_uri": "https://localhost:8080/"
        },
        "id": "vGKY_ARVqlFl",
        "outputId": "0fa7ca15-06d2-4be4-d518-c6dd8b081589"
      },
      "execution_count": null,
      "outputs": [
        {
          "output_type": "stream",
          "name": "stdout",
          "text": [
            "Hello World\n",
            "Welcome to phitron AIML\n"
          ]
        }
      ]
    },
    {
      "cell_type": "code",
      "source": [
        "with open(\"./sample_data/test.txt\", \"w\") as file:\n",
        "  file.write(\"Hello world\\n\")\n",
        "  file.write(\"How is learning going on?\\n\")"
      ],
      "metadata": {
        "id": "sDfhV2wBtv_n"
      },
      "execution_count": null,
      "outputs": []
    },
    {
      "cell_type": "code",
      "source": [
        "### WRITING ON A EXISTING FILE"
      ],
      "metadata": {
        "id": "6KP3xTfAHE8S"
      },
      "execution_count": null,
      "outputs": []
    },
    {
      "cell_type": "code",
      "source": [
        "with open(\"./sample_data/test.txt\", \"a\") as file:\n",
        "  file.write(\"Second world\\n\")\n",
        "  file.write(\"How is learning going on second one?\\n\")\n",
        "\n",
        "print(file.closed)"
      ],
      "metadata": {
        "id": "pb9jvUitHyTu",
        "outputId": "5d3414d8-50da-4776-bf64-357cda68b215",
        "colab": {
          "base_uri": "https://localhost:8080/"
        }
      },
      "execution_count": 6,
      "outputs": [
        {
          "output_type": "stream",
          "name": "stdout",
          "text": [
            "True\n"
          ]
        }
      ]
    },
    {
      "cell_type": "code",
      "source": [
        "with open(\"./sample_data/test.txt\", \"r\") as file:\n",
        "  content = file.readlines();\n",
        "  print(content)\n",
        "\n",
        "  content = list(map(str.strip, content))\n",
        "\n",
        "  print(content)\n",
        "\n",
        "  filter_content = filter(lambda x : len(x) > 0, content)\n",
        "  print(list(filter_content))"
      ],
      "metadata": {
        "id": "OLEFNVZQH0lF",
        "colab": {
          "base_uri": "https://localhost:8080/"
        },
        "outputId": "3e8554d3-45d5-401c-c7e0-3019ebae3864"
      },
      "execution_count": 7,
      "outputs": [
        {
          "output_type": "stream",
          "name": "stdout",
          "text": [
            "['Second world\\n', 'How is learning going on second one?\\n', 'Second world\\n', 'How is learning going on second one?\\n']\n",
            "['Second world', 'How is learning going on second one?', 'Second world', 'How is learning going on second one?']\n",
            "['Second world', 'How is learning going on second one?', 'Second world', 'How is learning going on second one?']\n"
          ]
        }
      ]
    },
    {
      "cell_type": "code",
      "source": [
        "strings = ['hello', 'world', 'good bye']\n",
        "\n",
        "with open(\"./sample_data/test2.txt\", \"a\") as file:\n",
        "   file.writelines(strings)"
      ],
      "metadata": {
        "id": "9V-DiAZCI8KU"
      },
      "execution_count": 8,
      "outputs": []
    },
    {
      "cell_type": "code",
      "source": [
        "### FILE POINTER / CURSOR"
      ],
      "metadata": {
        "id": "KjaJlkdnLUzD"
      },
      "execution_count": 10,
      "outputs": []
    },
    {
      "cell_type": "code",
      "source": [
        "with open(\"./sample_data/test2.txt\", \"r\") as file:\n",
        "\n",
        "  print(file.tell())\n",
        "\n",
        "  content = file.read()\n",
        "  print(content)\n",
        "\n",
        "  print(file.tell()) #helloworldgood bye\n",
        "\n",
        "  #last index theke pora shuru krsi\n",
        "  print(file.read())"
      ],
      "metadata": {
        "colab": {
          "base_uri": "https://localhost:8080/"
        },
        "id": "tOouLE5JLhYX",
        "outputId": "ca9bc507-7a49-4269-8f56-9e494fb6fbe2"
      },
      "execution_count": 16,
      "outputs": [
        {
          "output_type": "stream",
          "name": "stdout",
          "text": [
            "0\n",
            "helloworldgood bye\n",
            "18\n",
            "\n"
          ]
        }
      ]
    },
    {
      "cell_type": "code",
      "source": [
        "with open(\"./sample_data/test2.txt\", \"r\") as file:\n",
        "\n",
        "  print(file.tell())\n",
        "\n",
        "  content = file.read(5)\n",
        "  print(content)\n",
        "\n",
        "  print(file.tell()) #helloworldgood bye\n",
        "\n",
        "  #last index theke pora shuru krsi\n",
        "  print(file.read())\n",
        "\n",
        "  print(file.tell())\n"
      ],
      "metadata": {
        "colab": {
          "base_uri": "https://localhost:8080/"
        },
        "id": "eYo1DLIlNBb5",
        "outputId": "d3c06b2e-c5a4-4289-ab18-c5dca99a7bfb"
      },
      "execution_count": 18,
      "outputs": [
        {
          "output_type": "stream",
          "name": "stdout",
          "text": [
            "0\n",
            "hello\n",
            "5\n",
            "worldgood bye\n",
            "18\n"
          ]
        }
      ]
    },
    {
      "cell_type": "code",
      "source": [
        "with open(\"./sample_data/test2.txt\", \"r\") as file:\n",
        "\n",
        "  print(file.tell())\n",
        "\n",
        "  file.seek(5)\n",
        "  print(file.tell())\n"
      ],
      "metadata": {
        "colab": {
          "base_uri": "https://localhost:8080/"
        },
        "id": "r3F84OvEO1WN",
        "outputId": "02fdf148-d933-4598-a7b3-0881cfca48e9"
      },
      "execution_count": 21,
      "outputs": [
        {
          "output_type": "stream",
          "name": "stdout",
          "text": [
            "0\n",
            "5\n"
          ]
        }
      ]
    },
    {
      "cell_type": "code",
      "source": [
        "with open(\"./sample_data/test2.txt\", \"r\") as file:\n",
        "  print(file.read(5))\n",
        "  file.seek(0)\n",
        "  print(file.tell())\n",
        "  print(file.read())"
      ],
      "metadata": {
        "colab": {
          "base_uri": "https://localhost:8080/"
        },
        "id": "4hjJDComP4N2",
        "outputId": "bf4a54c8-ee67-4e5f-b102-0071fc341d19"
      },
      "execution_count": 23,
      "outputs": [
        {
          "output_type": "stream",
          "name": "stdout",
          "text": [
            "hello\n",
            "0\n",
            "helloworldgood bye\n"
          ]
        }
      ]
    },
    {
      "cell_type": "code",
      "source": [],
      "metadata": {
        "id": "gO6UKBv5XBVB"
      },
      "execution_count": null,
      "outputs": []
    },
    {
      "cell_type": "markdown",
      "source": [
        "# **Practice 1**\n",
        "Get the text from sample.txt , and count the following\n",
        "\n",
        "Number of lines\n",
        "\n",
        "Number of words\n",
        "\n",
        "Number of characters\n",
        "\n",
        "and save it to the counter_of_string.txt file"
      ],
      "metadata": {
        "id": "z4dbI-DSa0-c"
      }
    },
    {
      "cell_type": "code",
      "source": [
        "from functools import reduce\n",
        "\n",
        "with open(\"./sample_data/sample.txt\", \"r\") as file:\n",
        "\n",
        "  # number of lines\n",
        "  strings_list = file.readlines();\n",
        "  print(\"number of lines\",len(strings_list))\n",
        "\n",
        "  # number of words\n",
        "  number_of_words = list(map(lambda x : len(x.split()), strings_list))\n",
        "  #print(number_of_words)\n",
        "\n",
        "  total_number_of_words = reduce(lambda x, y: x+y, number_of_words)\n",
        "  print(\"total number of words\", total_number_of_words)\n",
        "\n",
        "  # number of characters\n",
        "  strings_list = list(map(str.strip, strings_list)) #deleting new lines\n",
        "  strings_list = list(map(lambda x : x.replace(\" \", \"\"), strings_list)) #delete extra spaces\n",
        "  number_of_characters = list(map(lambda x : len(x), strings_list))\n",
        "  #print(number_of_characters)\n",
        "  total_number_characters = reduce(lambda x,y : x+y, number_of_characters)\n",
        "  print(\"Total number of characters\", total_number_characters)\n",
        "\n",
        "with open(\"./sample_data/counter_of_string.txt\", \"w\") as file:\n",
        "  file.write(f\"Total Lines {len(strings_list)}\\n\")\n",
        "  file.write(f\"Total Words {total_number_of_words}\\n\")\n",
        "  file.write(f\"Total Characters {total_number_characters}\\n\")"
      ],
      "metadata": {
        "colab": {
          "base_uri": "https://localhost:8080/"
        },
        "id": "XAkj2yAra3mU",
        "outputId": "f8618f9f-dc45-4604-ba36-05d2a050c7c5"
      },
      "execution_count": 45,
      "outputs": [
        {
          "output_type": "stream",
          "name": "stdout",
          "text": [
            "number of lines 3\n",
            "total number of words 9\n",
            "Total number of characters 38\n"
          ]
        }
      ]
    },
    {
      "cell_type": "markdown",
      "source": [
        "# **Practice 2**\n",
        "Write then read with one open"
      ],
      "metadata": {
        "id": "ZximofwLluFN"
      }
    },
    {
      "cell_type": "code",
      "source": [
        "with open(\"./sample_data/read_open.txt\", \"w+\") as file:\n",
        "  file.write(\"Hello world\")\n",
        "\n",
        "  print(file.tell())\n",
        "\n",
        "  #print(file.read())\n",
        "\n",
        "  file.seek(0)\n",
        "  print(file.tell())\n",
        "\n",
        "  file.truncate(5)\n",
        "\n",
        "  print(file.read())"
      ],
      "metadata": {
        "colab": {
          "base_uri": "https://localhost:8080/"
        },
        "id": "1EuUrvJslySU",
        "outputId": "daaa86db-513f-4d5e-ce1f-9b42c635039d"
      },
      "execution_count": 49,
      "outputs": [
        {
          "output_type": "stream",
          "name": "stdout",
          "text": [
            "11\n",
            "0\n",
            "Hello\n"
          ]
        }
      ]
    },
    {
      "cell_type": "code",
      "source": [],
      "metadata": {
        "id": "0dv1i3NBn-r0"
      },
      "execution_count": null,
      "outputs": []
    }
  ]
}