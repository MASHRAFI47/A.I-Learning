{
 "cells": [
  {
   "cell_type": "markdown",
   "id": "71ded8d6",
   "metadata": {},
   "source": [
    "### DIGITS RIGHT TO LEFT"
   ]
  },
  {
   "cell_type": "code",
   "execution_count": null,
   "id": "cb41469b",
   "metadata": {},
   "outputs": [
    {
     "name": "stdout",
     "output_type": "stream",
     "text": [
      "1 2 1 \n",
      "6 5 4 3 2 1 \n",
      "9 3 \n",
      "0\n"
     ]
    }
   ],
   "source": [
    "#https://codeforces.com/group/MWSDmqGsZm/contest/219432/problem/Q\n",
    "\n",
    "t = int(input())\n",
    "\n",
    "for i in range(t):\n",
    "    number = int(input())\n",
    "\n",
    "    if number == 0:\n",
    "        print(0)\n",
    "        continue\n",
    "\n",
    "    while number > 0:\n",
    "        print(number % 10, end=\" \")\n",
    "        number //= 10\n",
    "\n",
    "    print()"
   ]
  }
 ],
 "metadata": {
  "kernelspec": {
   "display_name": "Python 3",
   "language": "python",
   "name": "python3"
  },
  "language_info": {
   "codemirror_mode": {
    "name": "ipython",
    "version": 3
   },
   "file_extension": ".py",
   "mimetype": "text/x-python",
   "name": "python",
   "nbconvert_exporter": "python",
   "pygments_lexer": "ipython3",
   "version": "3.13.7"
  }
 },
 "nbformat": 4,
 "nbformat_minor": 5
}
