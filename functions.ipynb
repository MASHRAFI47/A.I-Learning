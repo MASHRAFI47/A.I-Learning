{
 "cells": [
  {
   "cell_type": "markdown",
   "id": "d225b0af-b5df-4b29-8e57-2d9951df79e7",
   "metadata": {},
   "source": [
    "### FUNCTIONS"
   ]
  },
  {
   "cell_type": "code",
   "execution_count": 1,
   "id": "2bcc3935-5c8b-4199-b024-68e393e12e36",
   "metadata": {},
   "outputs": [
    {
     "name": "stdout",
     "output_type": "stream",
     "text": [
      "Hello world\n"
     ]
    }
   ],
   "source": [
    "def greet():\n",
    "    print(\"Hello world\")\n",
    "\n",
    "greet()"
   ]
  },
  {
   "cell_type": "code",
   "execution_count": 5,
   "id": "d9b65664-40e1-4979-b54f-1b2287002df3",
   "metadata": {},
   "outputs": [
    {
     "name": "stdout",
     "output_type": "stream",
     "text": [
      "Hello Mashrafi\n"
     ]
    }
   ],
   "source": [
    "def greet(user = \"Guest\"):\n",
    "    print(f\"Hello {user}\")\n",
    "\n",
    "greet(\"Mashrafi\")"
   ]
  },
  {
   "cell_type": "code",
   "execution_count": 6,
   "id": "b9d35a64-1f15-46a7-8515-88f3f1786ac3",
   "metadata": {},
   "outputs": [
    {
     "name": "stdout",
     "output_type": "stream",
     "text": [
      "500\n"
     ]
    }
   ],
   "source": [
    "def square_addition(a, b):\n",
    "    a = a**2\n",
    "    b = b**2\n",
    "    print(a+b)\n",
    "\n",
    "square_addition(10, 20)"
   ]
  },
  {
   "cell_type": "code",
   "execution_count": 7,
   "id": "eae69a18-8776-4979-bd75-b98364f86204",
   "metadata": {},
   "outputs": [
    {
     "name": "stdout",
     "output_type": "stream",
     "text": [
      "500\n"
     ]
    },
    {
     "ename": "TypeError",
     "evalue": "unsupported operand type(s) for +: 'NoneType' and 'int'",
     "output_type": "error",
     "traceback": [
      "\u001b[1;31m---------------------------------------------------------------------------\u001b[0m",
      "\u001b[1;31mTypeError\u001b[0m                                 Traceback (most recent call last)",
      "Cell \u001b[1;32mIn[7], line 6\u001b[0m\n\u001b[0;32m      3\u001b[0m     b \u001b[38;5;241m=\u001b[39m b\u001b[38;5;241m*\u001b[39m\u001b[38;5;241m*\u001b[39m\u001b[38;5;241m2\u001b[39m\n\u001b[0;32m      4\u001b[0m     \u001b[38;5;28mprint\u001b[39m(a\u001b[38;5;241m+\u001b[39mb)\n\u001b[1;32m----> 6\u001b[0m ans \u001b[38;5;241m=\u001b[39m square_addition(\u001b[38;5;241m10\u001b[39m, \u001b[38;5;241m20\u001b[39m) \u001b[38;5;241m+\u001b[39m \u001b[38;5;241m10\u001b[39m\n\u001b[0;32m      7\u001b[0m \u001b[38;5;28mprint\u001b[39m(ans)\n",
      "\u001b[1;31mTypeError\u001b[0m: unsupported operand type(s) for +: 'NoneType' and 'int'"
     ]
    }
   ],
   "source": [
    "def square_addition(a, b):\n",
    "    a = a**2\n",
    "    b = b**2\n",
    "    print(a+b)\n",
    "\n",
    "ans = square_addition(10, 20) + 10\n",
    "print(ans)\n",
    "\n",
    "#won't work because the function is not returning anything so it is None. None + 10 is error"
   ]
  },
  {
   "cell_type": "code",
   "execution_count": 14,
   "id": "79265959-f84f-4fd8-98d4-ff57dc2d86c7",
   "metadata": {},
   "outputs": [
    {
     "name": "stdout",
     "output_type": "stream",
     "text": [
      "510\n"
     ]
    }
   ],
   "source": [
    "def square_addition(a, b):\n",
    "    a = a**2\n",
    "    b = b**2\n",
    "    return a + b\n",
    "\n",
    "ans = square_addition(10, 20) + 10 #positional argument\n",
    "print(ans)"
   ]
  },
  {
   "cell_type": "code",
   "execution_count": 15,
   "id": "84f8f4e8-5665-4f04-bab2-c958fc6add3a",
   "metadata": {},
   "outputs": [
    {
     "name": "stdout",
     "output_type": "stream",
     "text": [
      "20 10\n",
      "510\n"
     ]
    }
   ],
   "source": [
    "def square_addition(a, b):\n",
    "    print(f\"{a} {b}\")\n",
    "    a = a**2\n",
    "    b = b**2\n",
    "    return a + b\n",
    "\n",
    "ans = square_addition(b=10, a=20) + 10 #keyword argument\n",
    "print(ans)"
   ]
  },
  {
   "cell_type": "markdown",
   "id": "19a6f75f-6881-484a-b82f-5d9405a1dbdc",
   "metadata": {},
   "source": [
    "##### variable sized argument"
   ]
  },
  {
   "cell_type": "code",
   "execution_count": 19,
   "id": "c69a3204-c1d5-4747-9675-eea9424db8eb",
   "metadata": {},
   "outputs": [
    {
     "name": "stdout",
     "output_type": "stream",
     "text": [
      "(10, 20, 30, 40, 50)\n",
      "10\n",
      "20\n",
      "30\n",
      "40\n",
      "50\n"
     ]
    }
   ],
   "source": [
    "def super_addition(*args):\n",
    "    print(args)\n",
    "    #args come as tuple so we can iterate\n",
    "    for i in args:\n",
    "        print(i)\n",
    "\n",
    "super_addition(10, 20, 30, 40, 50)"
   ]
  },
  {
   "cell_type": "code",
   "execution_count": 21,
   "id": "1c984dfd-bb87-4b93-a0e6-f54de91316f8",
   "metadata": {},
   "outputs": [
    {
     "name": "stdout",
     "output_type": "stream",
     "text": [
      "5500\n"
     ]
    }
   ],
   "source": [
    "def square_addition(*args):\n",
    "    summation = 0\n",
    "    for i in args:\n",
    "        i = i**2\n",
    "        summation += i\n",
    "    return summation\n",
    "\n",
    "ans = square_addition(10, 20, 30, 40, 50)\n",
    "print(ans)"
   ]
  },
  {
   "cell_type": "code",
   "execution_count": null,
   "id": "355fe46a-e454-44eb-82d6-2a4f22f8d377",
   "metadata": {},
   "outputs": [
    {
     "name": "stdout",
     "output_type": "stream",
     "text": [
      "{'name': 'Mashrafi Bin Nur', 'cls': 12, 'roll': 5, 'marks': 30.5}\n"
     ]
    }
   ],
   "source": [
    "#keywords arguments using variable sized argument\n",
    "def student(**kwargs):\n",
    "    print(kwargs)\n",
    "\n",
    "student(name=\"Mashrafi Bin Nur\", cls = 12, roll = 5, marks = 30.5)"
   ]
  },
  {
   "cell_type": "code",
   "execution_count": 24,
   "id": "7d600e6d-a76d-4890-9e90-f5a20f2c787a",
   "metadata": {},
   "outputs": [
    {
     "name": "stdout",
     "output_type": "stream",
     "text": [
      "name Mashrafi Bin Nur\n",
      "cls 12\n",
      "roll 5\n",
      "marks 30.5\n"
     ]
    }
   ],
   "source": [
    "def student(**kwargs):\n",
    "    for k, v in kwargs.items():\n",
    "        print(k, v)\n",
    "\n",
    "student(name=\"Mashrafi Bin Nur\", cls = 12, roll = 5, marks = 30.5)"
   ]
  },
  {
   "cell_type": "markdown",
   "id": "87400f1e-414c-4ae9-aca0-b4d44518aeda",
   "metadata": {},
   "source": [
    "### FUNCTION RETURN TYPES"
   ]
  },
  {
   "cell_type": "code",
   "execution_count": 26,
   "id": "670fd0d7-f990-4d0f-9a62-b64d5d260921",
   "metadata": {},
   "outputs": [
    {
     "name": "stdout",
     "output_type": "stream",
     "text": [
      "<class 'int'>\n"
     ]
    }
   ],
   "source": [
    "def give_prediction():\n",
    "    return 10\n",
    "\n",
    "print(type(give_prediction()))"
   ]
  },
  {
   "cell_type": "code",
   "execution_count": 27,
   "id": "11fa0932-5a17-4154-914c-65d171dac7ae",
   "metadata": {},
   "outputs": [
    {
     "name": "stdout",
     "output_type": "stream",
     "text": [
      "<class 'float'>\n"
     ]
    }
   ],
   "source": [
    "def give_prediction():\n",
    "    return 10.5\n",
    "\n",
    "print(type(give_prediction()))"
   ]
  },
  {
   "cell_type": "code",
   "execution_count": 30,
   "id": "bf3aecf4-d080-4154-b669-076d5750dabe",
   "metadata": {},
   "outputs": [
    {
     "name": "stdout",
     "output_type": "stream",
     "text": [
      "<class 'str'>\n"
     ]
    }
   ],
   "source": [
    "def give_prediction():\n",
    "    return \"name\"\n",
    "\n",
    "print(type(give_prediction()))"
   ]
  },
  {
   "cell_type": "code",
   "execution_count": 44,
   "id": "c341df5f-08bf-4e3c-aa64-909cc605739d",
   "metadata": {},
   "outputs": [
    {
     "name": "stdout",
     "output_type": "stream",
     "text": [
      "<class 'dict'>\n"
     ]
    }
   ],
   "source": [
    "def give_prediction():\n",
    "    return {\"name\": \"Mashrafi Bin Nur\", \"age\": 20}\n",
    "\n",
    "print(type(give_prediction()))"
   ]
  },
  {
   "cell_type": "code",
   "execution_count": 32,
   "id": "d4337683-0c52-409b-aacf-4578d38d7fc0",
   "metadata": {},
   "outputs": [
    {
     "name": "stdout",
     "output_type": "stream",
     "text": [
      "<class 'tuple'>\n",
      "(10, 20)\n"
     ]
    }
   ],
   "source": [
    "def give_prediction():\n",
    "    return 10, 20\n",
    "\n",
    "print(type(give_prediction()))\n",
    "print(give_prediction())"
   ]
  },
  {
   "cell_type": "code",
   "execution_count": 39,
   "id": "21223530-11a9-4dec-91c6-0742519c4df1",
   "metadata": {},
   "outputs": [
    {
     "name": "stdout",
     "output_type": "stream",
     "text": [
      "<class 'tuple'>\n",
      "(10, 20)\n",
      "10 20\n"
     ]
    }
   ],
   "source": [
    "def give_prediction():\n",
    "    return 10, 20\n",
    "\n",
    "print(type(give_prediction()))\n",
    "print(give_prediction())\n",
    "\n",
    "#unpacking\n",
    "x, y = give_prediction()\n",
    "\n",
    "print(x, y)"
   ]
  },
  {
   "cell_type": "code",
   "execution_count": 40,
   "id": "5f9e04d2-83e2-4f07-83dd-3b250fc22799",
   "metadata": {},
   "outputs": [
    {
     "name": "stdout",
     "output_type": "stream",
     "text": [
      "<class 'tuple'>\n",
      "([10, 20, 30], [40, 50, 60])\n",
      "[10, 20, 30] [40, 50, 60]\n"
     ]
    }
   ],
   "source": [
    "def give_prediction():\n",
    "    a = [10, 20, 30]\n",
    "    b = [40, 50, 60]\n",
    "    return a, b\n",
    "\n",
    "print(type(give_prediction()))\n",
    "print(give_prediction())\n",
    "\n",
    "#unpacking\n",
    "x, y = give_prediction()\n",
    "\n",
    "print(x, y)"
   ]
  },
  {
   "cell_type": "code",
   "execution_count": 43,
   "id": "c2e021e2-ad07-4d2f-b2d5-9462a40526b2",
   "metadata": {},
   "outputs": [
    {
     "name": "stdout",
     "output_type": "stream",
     "text": [
      "<class 'set'>\n",
      "10\n",
      "20\n",
      "30\n"
     ]
    }
   ],
   "source": [
    "def give_prediction():\n",
    "    a = {10, 20, 30}\n",
    "    return a\n",
    "\n",
    "print(type(give_prediction()))\n",
    "\n",
    "x = give_prediction()\n",
    "\n",
    "for item in x:\n",
    "    print(item)"
   ]
  },
  {
   "cell_type": "code",
   "execution_count": null,
   "id": "120ae1b5-b4ba-4889-9b81-8db97713ff95",
   "metadata": {},
   "outputs": [],
   "source": []
  }
 ],
 "metadata": {
  "kernelspec": {
   "display_name": "Python [conda env:base] *",
   "language": "python",
   "name": "conda-base-py"
  },
  "language_info": {
   "codemirror_mode": {
    "name": "ipython",
    "version": 3
   },
   "file_extension": ".py",
   "mimetype": "text/x-python",
   "name": "python",
   "nbconvert_exporter": "python",
   "pygments_lexer": "ipython3",
   "version": "3.13.5"
  }
 },
 "nbformat": 4,
 "nbformat_minor": 5
}
