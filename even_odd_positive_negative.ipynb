{
 "cells": [
  {
   "cell_type": "code",
   "execution_count": null,
   "id": "c4765e94",
   "metadata": {},
   "outputs": [
    {
     "name": "stdout",
     "output_type": "stream",
     "text": [
      "Even: 2\n",
      "Odd: 3\n",
      "Positive: 4\n",
      "Negative: 1\n"
     ]
    }
   ],
   "source": [
    "###C. Even, Odd, Positive and Negative\n",
    "#https://codeforces.com/group/MWSDmqGsZm/contest/219432/problem/C\n",
    "\n",
    "n = int(input())\n",
    "\n",
    "inp = input()\n",
    "numbers = inp.split()\n",
    "\n",
    "positive = 0; negative = 0; even = 0; odd = 0\n",
    "\n",
    "for i in range(n):\n",
    "    x = int(numbers[i])\n",
    "    \n",
    "    if x > 0:\n",
    "        positive = positive + 1\n",
    "    elif x < 0:\n",
    "        negative = negative + 1\n",
    "    \n",
    "    if x % 2 == 0:\n",
    "        even = even + 1\n",
    "    else:\n",
    "        odd = odd + 1\n",
    "\n",
    "print(\"Even:\", even)\n",
    "print(\"Odd:\", odd)\n",
    "print(\"Positive:\", positive)\n",
    "print(\"Negative:\", negative)\n"
   ]
  }
 ],
 "metadata": {
  "kernelspec": {
   "display_name": "Python 3",
   "language": "python",
   "name": "python3"
  },
  "language_info": {
   "codemirror_mode": {
    "name": "ipython",
    "version": 3
   },
   "file_extension": ".py",
   "mimetype": "text/x-python",
   "name": "python",
   "nbconvert_exporter": "python",
   "pygments_lexer": "ipython3",
   "version": "3.13.7"
  }
 },
 "nbformat": 4,
 "nbformat_minor": 5
}
