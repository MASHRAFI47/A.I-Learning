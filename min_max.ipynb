{
 "cells": [
  {
   "cell_type": "code",
   "execution_count": 4,
   "id": "e244fb64",
   "metadata": {},
   "outputs": [
    {
     "name": "stdout",
     "output_type": "stream",
     "text": [
      "-5 20\n"
     ]
    }
   ],
   "source": [
    "inp = input()\n",
    "\n",
    "numbers = inp.split()\n",
    "\n",
    "x = int(numbers[0])\n",
    "y = int(numbers[1])\n",
    "z = int(numbers[2])\n",
    "\n",
    "min = x\n",
    "max = x\n",
    "\n",
    "if y < min:\n",
    "    min = y\n",
    "if z < min:\n",
    "    min = z\n",
    "\n",
    "if y > max:\n",
    "    max = y\n",
    "if z > max:\n",
    "    max = z\n",
    "\n",
    "print(min, max)"
   ]
  }
 ],
 "metadata": {
  "kernelspec": {
   "display_name": "Python 3",
   "language": "python",
   "name": "python3"
  },
  "language_info": {
   "codemirror_mode": {
    "name": "ipython",
    "version": 3
   },
   "file_extension": ".py",
   "mimetype": "text/x-python",
   "name": "python",
   "nbconvert_exporter": "python",
   "pygments_lexer": "ipython3",
   "version": "3.13.7"
  }
 },
 "nbformat": 4,
 "nbformat_minor": 5
}
