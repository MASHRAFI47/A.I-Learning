{
 "cells": [
  {
   "cell_type": "markdown",
   "id": "f7ebe2ea-cdd0-4e8a-9238-64ad63d603c9",
   "metadata": {},
   "source": [
    "### LAMBDA"
   ]
  },
  {
   "cell_type": "code",
   "execution_count": 2,
   "id": "7231876e-0745-4c85-804d-3c20f3798db4",
   "metadata": {},
   "outputs": [
    {
     "name": "stdout",
     "output_type": "stream",
     "text": [
      "500\n"
     ]
    }
   ],
   "source": [
    "def square_addition(a, b):\n",
    "    return a**2 + b**2\n",
    "\n",
    "additional = square_addition(10, 20)\n",
    "print(additional)"
   ]
  },
  {
   "cell_type": "code",
   "execution_count": 6,
   "id": "8619cc70-55ed-4a15-a157-41e3c230f7e7",
   "metadata": {},
   "outputs": [
    {
     "name": "stdout",
     "output_type": "stream",
     "text": [
      "500\n"
     ]
    }
   ],
   "source": [
    "sq_add = lambda x,y : x**2 + y**2\n",
    "print(sq_add(10, 20))"
   ]
  },
  {
   "cell_type": "code",
   "execution_count": 8,
   "id": "ef4e2e30-5306-4457-b526-8ae78413cec2",
   "metadata": {},
   "outputs": [
    {
     "name": "stdout",
     "output_type": "stream",
     "text": [
      "False\n"
     ]
    }
   ],
   "source": [
    "if_even = lambda x : x%2==0\n",
    "\n",
    "print(if_even(11))"
   ]
  },
  {
   "cell_type": "markdown",
   "id": "77d1333f-b636-40e8-8ef1-9d1e6fb8230d",
   "metadata": {},
   "source": [
    "### MAP"
   ]
  },
  {
   "cell_type": "code",
   "execution_count": 11,
   "id": "b2f05898-2d83-41be-9fb1-a49c8e0c1643",
   "metadata": {},
   "outputs": [
    {
     "name": "stdout",
     "output_type": "stream",
     "text": [
      "[1, 4, 9, 16, 25]\n"
     ]
    }
   ],
   "source": [
    "lst = [1, 2, 3, 4, 5]\n",
    "\n",
    "def square(x):\n",
    "    return x**2\n",
    "\n",
    "lst = list(map(square, lst))\n",
    "print(lst)"
   ]
  },
  {
   "cell_type": "code",
   "execution_count": 16,
   "id": "5d8752f4-76b8-4411-b32a-5aa624f499ab",
   "metadata": {},
   "outputs": [
    {
     "name": "stdout",
     "output_type": "stream",
     "text": [
      "H E L L O   W O R L D ,   W E L C O M E   T O   T H E   A G E   O F   A I\n"
     ]
    }
   ],
   "source": [
    "#string\n",
    "\n",
    "string = \"Hello World, Welcome to the age of AI\"\n",
    "\n",
    "string = list(map(str.upper, string))\n",
    "\n",
    "string1 = \" \".join(string)\n",
    "print(string1)"
   ]
  },
  {
   "cell_type": "code",
   "execution_count": 19,
   "id": "d330a5a6-ef95-4c5c-8763-1f124cc35388",
   "metadata": {},
   "outputs": [
    {
     "name": "stdout",
     "output_type": "stream",
     "text": [
      "[1, 4, 9, 16, 25]\n"
     ]
    }
   ],
   "source": [
    "#map using lambda\n",
    "lst = [1, 2, 3, 4, 5]\n",
    "\n",
    "lst = list(map(lambda x : x**2, lst))\n",
    "print(lst)"
   ]
  },
  {
   "cell_type": "code",
   "execution_count": 23,
   "id": "e84bc5b5-cb0d-47e6-8328-e37938e33098",
   "metadata": {},
   "outputs": [
    {
     "name": "stdout",
     "output_type": "stream",
     "text": [
      "[1, 4, 3, 16, 5]\n"
     ]
    }
   ],
   "source": [
    "#map using lambda\n",
    "lst = [1, 2, 3, 4, 5]\n",
    "\n",
    "lst = list(map(lambda x : x**2 if x%2 == 0 else x, lst))\n",
    "print(lst)"
   ]
  },
  {
   "cell_type": "markdown",
   "id": "0d79a92c-fb02-4341-9c9d-d8d49850c2d8",
   "metadata": {},
   "source": [
    "### FILTER"
   ]
  },
  {
   "cell_type": "code",
   "execution_count": 24,
   "id": "13218c9c-8dcc-4ead-9df6-fc5e3d663777",
   "metadata": {},
   "outputs": [
    {
     "name": "stdout",
     "output_type": "stream",
     "text": [
      "[0, 2, 4, 6, 8, 10, 12, 14, 16, 18, 20, 22, 24, 26, 28, 30, 32, 34, 36, 38, 40, 42, 44, 46, 48, 50, 52, 54, 56, 58, 60, 62, 64, 66, 68, 70, 72, 74, 76, 78, 80, 82, 84, 86, 88, 90, 92, 94, 96, 98]\n"
     ]
    }
   ],
   "source": [
    "#even numbers list using filter\n",
    "lst = [x for x in range(100)]\n",
    "\n",
    "lst = list(filter(lambda x : x%2==0, lst))\n",
    "\n",
    "print(lst)"
   ]
  },
  {
   "cell_type": "code",
   "execution_count": 25,
   "id": "6f6b3356-afd3-43af-a97e-cb494a09734b",
   "metadata": {},
   "outputs": [
    {
     "name": "stdout",
     "output_type": "stream",
     "text": [
      "[51, 52, 53, 54, 55, 56, 57, 58, 59, 60, 61, 62, 63, 64, 65, 66, 67, 68, 69, 70, 71, 72, 73, 74, 75, 76, 77, 78, 79, 80, 81, 82, 83, 84, 85, 86, 87, 88, 89, 90, 91, 92, 93, 94, 95, 96, 97, 98, 99]\n"
     ]
    }
   ],
   "source": [
    "#even numbers list using filter\n",
    "lst = [x for x in range(100)]\n",
    "\n",
    "fifty_upper = list(filter(lambda x : x > 50, lst))\n",
    "\n",
    "print(fifty_upper)"
   ]
  },
  {
   "cell_type": "code",
   "execution_count": 28,
   "id": "eb748104-142b-490a-a3db-6a7052b88f12",
   "metadata": {},
   "outputs": [
    {
     "name": "stdout",
     "output_type": "stream",
     "text": [
      "[1, 'Hello', [1, 2], True]\n"
     ]
    }
   ],
   "source": [
    "#remove specific data type\n",
    "\n",
    "data = [0, 1, '', None, 'Hello', [], [1, 2], None, True, False, None]\n",
    "\n",
    "cleaned_data = list(filter(None, data))\n",
    "print(cleaned_data)"
   ]
  },
  {
   "cell_type": "code",
   "execution_count": 31,
   "id": "19088565-fd06-458a-a566-ae1320f06bdc",
   "metadata": {},
   "outputs": [
    {
     "name": "stdout",
     "output_type": "stream",
     "text": [
      "['E', 'O', 'O', 'E', 'O', 'E', 'O', 'E', 'A', 'E', 'O', 'A', 'I']\n"
     ]
    }
   ],
   "source": [
    "string = \"HELLO WORLD, WELCOME TO THE AGE OF AI\"\n",
    "\n",
    "vowels = list(filter(lambda x : x in \"AEIOU\", string))\n",
    "print(vowels)"
   ]
  },
  {
   "cell_type": "code",
   "execution_count": 32,
   "id": "d79c1447-bf81-4e7e-b5a8-fc63fc9437e0",
   "metadata": {},
   "outputs": [
    {
     "name": "stdout",
     "output_type": "stream",
     "text": [
      "['aaa', 'cccc', 'ddddd']\n"
     ]
    }
   ],
   "source": [
    "fruits = ['aaa', 'bb', 'cccc', 'ddddd']\n",
    "\n",
    "more_words_than_two = list(filter(lambda x: len(x) > 2, fruits))\n",
    "print(more_words_than_two)"
   ]
  },
  {
   "cell_type": "markdown",
   "id": "39bb4935-303b-4e4b-856e-9e1ad893c452",
   "metadata": {},
   "source": [
    "### REDUCE"
   ]
  },
  {
   "cell_type": "code",
   "execution_count": 33,
   "id": "893a4ab9-2fdd-44b6-8e80-521d977eb9dd",
   "metadata": {},
   "outputs": [
    {
     "name": "stdout",
     "output_type": "stream",
     "text": [
      "15\n"
     ]
    }
   ],
   "source": [
    "from functools import reduce\n",
    "\n",
    "lst = [1, 2, 3, 4, 5]\n",
    "\n",
    "summation = reduce(lambda x,y : x+y, lst)\n",
    "\n",
    "print(summation)"
   ]
  },
  {
   "cell_type": "code",
   "execution_count": 39,
   "id": "503dd19e-ba00-4cc6-a65c-c5df09be2f1b",
   "metadata": {},
   "outputs": [
    {
     "name": "stdout",
     "output_type": "stream",
     "text": [
      "10\n"
     ]
    }
   ],
   "source": [
    "lst = [1, 2, 10, 3, 4, 5]\n",
    "\n",
    "max_val = reduce(lambda x, y : x if x > y else y, lst)\n",
    "print(max_val)"
   ]
  },
  {
   "cell_type": "code",
   "execution_count": 40,
   "id": "2a98bb38-4563-4d33-8342-5e07a595c5b9",
   "metadata": {},
   "outputs": [
    {
     "name": "stdout",
     "output_type": "stream",
     "text": [
      "hello world\n"
     ]
    }
   ],
   "source": [
    "lst = [\"hello\", \"world\"]\n",
    "\n",
    "string = reduce(lambda x, y: x + \" \" + y, lst)\n",
    "\n",
    "print(string)"
   ]
  },
  {
   "cell_type": "code",
   "execution_count": null,
   "id": "3581a839-4333-487d-b402-00beb5013a90",
   "metadata": {},
   "outputs": [],
   "source": []
  }
 ],
 "metadata": {
  "kernelspec": {
   "display_name": "Python [conda env:base] *",
   "language": "python",
   "name": "conda-base-py"
  },
  "language_info": {
   "codemirror_mode": {
    "name": "ipython",
    "version": 3
   },
   "file_extension": ".py",
   "mimetype": "text/x-python",
   "name": "python",
   "nbconvert_exporter": "python",
   "pygments_lexer": "ipython3",
   "version": "3.13.5"
  }
 },
 "nbformat": 4,
 "nbformat_minor": 5
}
