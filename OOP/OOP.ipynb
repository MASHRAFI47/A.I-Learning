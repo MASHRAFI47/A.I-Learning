{
 "cells": [
  {
   "cell_type": "markdown",
   "id": "a7f723a4-e18d-4790-8e6a-67dfdfe3ece1",
   "metadata": {},
   "source": [
    "### OOP Inheritance"
   ]
  },
  {
   "cell_type": "code",
   "execution_count": 42,
   "id": "379d05dc-a5fa-42f2-8a8d-ba74a3478100",
   "metadata": {},
   "outputs": [
    {
     "name": "stdout",
     "output_type": "stream",
     "text": [
      "Super Electronics\n",
      "Electronics\n",
      "Photo Captured in Samsung s23\n",
      "Phone is charging for 5 hours\n",
      "95\n",
      "X\n",
      "100\n",
      "Snapdragon\n",
      "Fast charging in process\n",
      "Phone is charging for 5 hours\n",
      "Y\n",
      "5000\n",
      "100\n",
      "Snapdragon\n",
      "The system is being cooled by Nitrogen\n",
      "None\n"
     ]
    }
   ],
   "source": [
    "class Phone:\n",
    "    category = \"Electronics\"\n",
    "\n",
    "    #constructor\n",
    "    def __init__(self, model, battery, camera, battery_percentage=100):\n",
    "        self.model = model\n",
    "        self.battery = battery\n",
    "        self.camera = camera\n",
    "        self.battery_percentage = 100\n",
    "\n",
    "    #methods\n",
    "    def charge(self, hour):\n",
    "        self.battery_percentage += hour\n",
    "        return f\"Phone is charging for {hour} hours\"\n",
    "\n",
    "    def capture(self, photo):\n",
    "        if(self.battery_percentage) <= 0:\n",
    "            print(\"No charge\")\n",
    "            return\n",
    "        else:\n",
    "            self.battery_percentage -= photo\n",
    "            print(f\"Photo Captured in {self.model}\")\n",
    "    \n",
    "\n",
    "apple = Phone(\"Iphone17\", \"4000mah\", \"200mp\")\n",
    "apple.category = \"Super Electronics\"\n",
    "\n",
    "samsung = Phone(\"Samsung s23\", \"3800mah\", \"50mp\")\n",
    "\n",
    "print(apple.category)\n",
    "print(samsung.category)\n",
    "samsung.capture(10)\n",
    "print(samsung.charge(5))\n",
    "print(samsung.battery_percentage)\n",
    "\n",
    "\n",
    "#inheritence\n",
    "class SmartPhone(Phone):\n",
    "    def __init__(self, model, battery, camera, processor):\n",
    "        super().__init__(model, battery, camera)\n",
    "        self.processor = processor\n",
    "\n",
    "    def charge(self, hour):\n",
    "        print(\"Fast charging in process\")\n",
    "        return super().charge(hour)\n",
    "\n",
    "\n",
    "pro = SmartPhone(\"X\", 5000, 100, \"Snapdragon\")\n",
    "\n",
    "print(pro.model)\n",
    "print(pro.battery_percentage)\n",
    "print(pro.processor)\n",
    "print(pro.charge(5))\n",
    "\n",
    "\n",
    "\n",
    "\n",
    "### Multiple Inheritence\n",
    "class Cooling_Mechanism:\n",
    "    def __init__(self, cooling_method):\n",
    "        self.cooling_method = cooling_method\n",
    "\n",
    "    def cooling_on(self):\n",
    "        print(f\"The system is being cooled by {self.cooling_method}\")\n",
    "\n",
    "\n",
    "class SmartPhone_CoolingMode(SmartPhone, Cooling_Mechanism):\n",
    "    def __init__(self, model, battery, camera, processor, cooling_method):\n",
    "        SmartPhone.__init__(self, model, battery, camera, processor)\n",
    "        Cooling_Mechanism.__init__(self, cooling_method)\n",
    "\n",
    "\n",
    "pro_cooling = SmartPhone_CoolingMode(\"Y\", 5000, 100, \"Snapdragon\", \"Nitrogen\")\n",
    "\n",
    "print(pro_cooling.model)\n",
    "print(pro_cooling.battery)\n",
    "print(pro_cooling.camera)\n",
    "print(pro_cooling.processor)\n",
    "print(pro_cooling.cooling_on())"
   ]
  },
  {
   "cell_type": "markdown",
   "id": "3416ed3b-4463-45af-9769-ad21bd300694",
   "metadata": {},
   "source": [
    "### OOP Polymorphism"
   ]
  },
  {
   "cell_type": "code",
   "execution_count": 50,
   "id": "1d60c74c-30de-47b5-af73-40c52ff0d15c",
   "metadata": {},
   "outputs": [
    {
     "name": "stdout",
     "output_type": "stream",
     "text": [
      "a photo is captured by phone\n",
      "a photo is captured by DSLR\n",
      "a photo is captured by Drone\n"
     ]
    }
   ],
   "source": [
    "class Camera:\n",
    "    def __init__(self, name):\n",
    "        self.name = name\n",
    "\n",
    "    #method\n",
    "    def capture(self):\n",
    "        print(\"a photo is captured\")\n",
    "\n",
    "\n",
    "class Smart(Camera):\n",
    "    def __init__(self, name, resolution):\n",
    "        super().__init__(name)\n",
    "        self.resolution = resolution\n",
    "\n",
    "    #method overloading\n",
    "    def capture(self):\n",
    "        print(\"a photo is captured by phone\")\n",
    "    \n",
    "\n",
    "class DSLR(Camera):\n",
    "    def __init__(self, name, resolution):\n",
    "        super().__init__(name)\n",
    "        self.resolution = resolution\n",
    "\n",
    "    #method overloading\n",
    "    def capture(self):\n",
    "        print(\"a photo is captured by DSLR\")\n",
    "\n",
    "        \n",
    "\n",
    "class Drone(Camera):\n",
    "    def __init__(self, name, resolution):\n",
    "        super().__init__(name)\n",
    "        self.resolution = resolution\n",
    "\n",
    "    #method overloading\n",
    "    def capture(self):\n",
    "        print(\"a photo is captured by Drone\")\n",
    "\n",
    "\n",
    "phone = Smart(\"Phone\", 30)\n",
    "dslr = DSLR(\"DSLR\", 200)\n",
    "drone = Drone(\"Drone\", 150)\n",
    "\n",
    "phone.capture()\n",
    "dslr.capture()\n",
    "drone.capture()"
   ]
  },
  {
   "cell_type": "markdown",
   "id": "bdbceb3f-c5a2-4c16-843f-0f215836d798",
   "metadata": {},
   "source": [
    "### OOP Encapsulation"
   ]
  },
  {
   "cell_type": "code",
   "execution_count": 72,
   "id": "69ed0c29-6e63-4ae7-80d8-59ff8e52ede0",
   "metadata": {},
   "outputs": [
    {
     "name": "stdout",
     "output_type": "stream",
     "text": [
      "X\n",
      "150\n",
      "1515\n",
      "5151\n"
     ]
    }
   ],
   "source": [
    "class Mobile: \n",
    "    def __init__(self, model, camera, imei):\n",
    "        self.model = model\n",
    "        self.camera = camera\n",
    "        self.__imei = imei #private, means we cannot access it using dot or reassign it\n",
    "\n",
    "    def charge(self):\n",
    "        print(\"Phone is charging\")\n",
    "\n",
    "    def imei_getter(self):   \n",
    "        return self.__imei\n",
    "    def imei_setter(self, imei):\n",
    "        self.__imei = imei\n",
    "\n",
    "\n",
    "iphone = Mobile(\"phone\", 200, 1515)\n",
    "\n",
    "iphone.model = \"X\"\n",
    "iphone.camera = 150\n",
    "\n",
    "print(iphone.model)\n",
    "print(iphone.camera)\n",
    "#print(iphone.imei) # error (can't access because of private)\n",
    "print(iphone.imei_getter())\n",
    "iphone.imei_setter(5151) #if you set, the real imei will change\n",
    "\n",
    "\n",
    "iphone.imei = 15156 #reassigning will give you option to print again, but still the main imei is _Mobile__imei\n",
    "#but\n",
    "print(iphone.imei_getter()) #this won't change"
   ]
  },
  {
   "cell_type": "markdown",
   "id": "739ea443-fb6e-4908-9b96-6a9557e87acc",
   "metadata": {},
   "source": [
    "### Abstract Method"
   ]
  },
  {
   "cell_type": "code",
   "execution_count": 73,
   "id": "24e6a1cc-3782-4cfe-967a-878f066c87ed",
   "metadata": {},
   "outputs": [],
   "source": [
    "from abc import ABC, abstractmethod \n",
    "\n",
    "#abstract method is basically forcing one inheritence to use those methods\n",
    "\n",
    "class Telephone(ABC):\n",
    "    @abstractmethod\n",
    "    def make_call(self):\n",
    "        pass\n",
    "\n",
    "    @abstractmethod\n",
    "    def capture_photo(self):\n",
    "        pass\n",
    "\n",
    "\n",
    "class Sphone(Telephone):\n",
    "    def make_call(self): #must be here\n",
    "        pass\n",
    "\n",
    "    def capture_photo(self): #must be here\n",
    "        pass\n",
    "\n",
    "nokia = Sphone()"
   ]
  },
  {
   "cell_type": "code",
   "execution_count": null,
   "id": "58d89e32-7808-4a13-acda-8ed7619297cc",
   "metadata": {},
   "outputs": [],
   "source": []
  }
 ],
 "metadata": {
  "kernelspec": {
   "display_name": "Python [conda env:base] *",
   "language": "python",
   "name": "conda-base-py"
  },
  "language_info": {
   "codemirror_mode": {
    "name": "ipython",
    "version": 3
   },
   "file_extension": ".py",
   "mimetype": "text/x-python",
   "name": "python",
   "nbconvert_exporter": "python",
   "pygments_lexer": "ipython3",
   "version": "3.13.5"
  }
 },
 "nbformat": 4,
 "nbformat_minor": 5
}
