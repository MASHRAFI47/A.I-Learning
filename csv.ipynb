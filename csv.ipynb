{
 "cells": [
  {
   "cell_type": "markdown",
   "id": "2e1ceb82",
   "metadata": {},
   "source": [
    "### CSV"
   ]
  },
  {
   "cell_type": "code",
   "execution_count": 1,
   "id": "81f9c832",
   "metadata": {},
   "outputs": [
    {
     "name": "stdout",
     "output_type": "stream",
     "text": [
      "[['Name', 'Age'], ['Mashrafi', '23'], ['Rakib', '17']]\n"
     ]
    }
   ],
   "source": [
    "from pathlib import Path\n",
    "import csv\n",
    "\n",
    "### WRITE AND READ CSV FILE\n",
    "Data_Path = Path('data')\n",
    "Data_Path.mkdir(exist_ok=True)\n",
    "csv_path = Data_Path / \"student.csv\"\n",
    "#print(csv_path) #data\\student.csv\n",
    "\n",
    "#write\n",
    "with csv_path.open('w', newline=\"\", encoding=\"utf-8\") as file:\n",
    "    writer = csv.writer(file)\n",
    "    writer.writerow([\"Name\", \"Age\"])\n",
    "    writer.writerow([\"Mashrafi\", 23])\n",
    "    writer.writerow([\"Rakib\", 17])\n",
    "\n",
    "#read\n",
    "with csv_path.open(\"r\", encoding=\"utf-8\") as file:\n",
    "    reader = csv.reader(file)\n",
    "    read_list = list(reader)\n",
    "    print(read_list) #[['Name', 'Age'], ['Mashrafi', '23'], ['Rakib', '17']]"
   ]
  }
 ],
 "metadata": {
  "kernelspec": {
   "display_name": "Python 3",
   "language": "python",
   "name": "python3"
  },
  "language_info": {
   "codemirror_mode": {
    "name": "ipython",
    "version": 3
   },
   "file_extension": ".py",
   "mimetype": "text/x-python",
   "name": "python",
   "nbconvert_exporter": "python",
   "pygments_lexer": "ipython3",
   "version": "3.13.7"
  }
 },
 "nbformat": 4,
 "nbformat_minor": 5
}
