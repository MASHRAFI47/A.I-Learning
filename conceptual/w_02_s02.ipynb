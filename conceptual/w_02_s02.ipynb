{
 "cells": [
  {
   "cell_type": "markdown",
   "id": "6f8669e6-fab9-4c8e-ae18-40ffaedf22d2",
   "metadata": {},
   "source": [
    "### OOP"
   ]
  },
  {
   "cell_type": "code",
   "execution_count": 11,
   "id": "6e840158-c098-4594-862e-042e1277301d",
   "metadata": {},
   "outputs": [
    {
     "name": "stdout",
     "output_type": "stream",
     "text": [
      "Abc\n"
     ]
    }
   ],
   "source": [
    "#parent class/ base class/ super class\n",
    "class Dog:\n",
    "    food = \"Dog food\" #class attribute\n",
    "    \n",
    "    def __init__(self, name, age):\n",
    "        self.name = name #instance attribute\n",
    "        self.age = age\n",
    "\n",
    "    #instance method\n",
    "    def speak(self):\n",
    "        print(\"Dog speaking\", self.name, self.food)\n",
    "\n",
    "    @classmethod #after adding class method, it can only access the class attributes \n",
    "    def info(cls):\n",
    "        print(\"food\", cls.food)\n",
    "\n",
    "dog1 = Dog(\"Abc\", 20)\n",
    "print(dog1.name)"
   ]
  },
  {
   "cell_type": "markdown",
   "id": "4e4417d2-9f32-49d0-aa3b-39c307b0c6f2",
   "metadata": {},
   "source": [
    "### MINI PROJECT"
   ]
  },
  {
   "cell_type": "code",
   "execution_count": 28,
   "id": "6db9b1ef-fab3-43b8-97d8-b01f1467e7ee",
   "metadata": {},
   "outputs": [
    {
     "name": "stdout",
     "output_type": "stream",
     "text": [
      "1000\n",
      "100\n",
      "Interest rate is 2.0\n"
     ]
    }
   ],
   "source": [
    "from abc import ABC, abstractmethod\n",
    "\n",
    "class BankService(ABC):\n",
    "    @abstractmethod\n",
    "    def transaction(self):\n",
    "        pass\n",
    "\n",
    "class Account:\n",
    "    bank_name = \"Asia Bank\"\n",
    "    def __init__(self, name, account_no, balance):\n",
    "        self.name = name\n",
    "        self.account_no = account_no\n",
    "        self.__balance = balance \n",
    "\n",
    "    def get_balance(self):\n",
    "        return self.__balance\n",
    "\n",
    "    def deposit(self, money):\n",
    "        self.__balance += money\n",
    "        return f\"{money} is added, new balance is {self.__balance}\"\n",
    "\n",
    "    def withdraw(self, withdrawMoney):\n",
    "        if withdrawMoney > self.__balance:\n",
    "            return f\"Insufficient Money\"\n",
    "\n",
    "        return f\"{withdrawMoney} is withdrawn, new Balance is: {self.__balance}\"\n",
    "\n",
    "\n",
    "class SavingAccount(Account):\n",
    "    def __init__(self, name, account_no, balance, interest_rate):\n",
    "        super().__init__(name, account_no, balance)\n",
    "        self.interest_rate = interest_rate\n",
    "\n",
    "    def calculate_interest_rate(self):\n",
    "        interest = self.get_balance() * self.interest_rate / 100\n",
    "        return f\"Interest rate is {interest}\"\n",
    "\n",
    "\n",
    "class CurrentAccount(Account):\n",
    "    def __init__(self, name, account_no, balance, overlimit):\n",
    "        super().__init__(name, account_no, balance)\n",
    "        self.overlimit = overlimit\n",
    "\n",
    "    def withdraw(self, withdrawMoney):\n",
    "        if withdrawMoney > self.get_balance() + self.overlimit:\n",
    "            return f\"Insufficient Balance\"\n",
    "\n",
    "        balance = self.get_balance() - withdrawMoney\n",
    "        return f\"{withdrawMoney} is withdrawn balance is {balance}\"\n",
    "\n",
    "\n",
    "class ATM(BankService):\n",
    "    def transaction(self):\n",
    "        print(\"Atm transaction or balance\")\n",
    "\n",
    "\n",
    "\n",
    "currentUser = CurrentAccount(\"Rakib\", 123, 1000, 5000)\n",
    "print(currentUser.get_balance())\n",
    "currentUser.withdraw(3000)\n",
    "\n",
    "savingUser = SavingAccount(\"Masib\", 133, 100, 2)\n",
    "print(savingUser.get_balance())\n",
    "print(savingUser.calculate_interest_rate())\n",
    "\n",
    "atm = ATM()"
   ]
  },
  {
   "cell_type": "code",
   "execution_count": null,
   "id": "b0214688-3247-47f2-b1da-cf1a8616e43b",
   "metadata": {},
   "outputs": [],
   "source": []
  }
 ],
 "metadata": {
  "kernelspec": {
   "display_name": "Python [conda env:base] *",
   "language": "python",
   "name": "conda-base-py"
  },
  "language_info": {
   "codemirror_mode": {
    "name": "ipython",
    "version": 3
   },
   "file_extension": ".py",
   "mimetype": "text/x-python",
   "name": "python",
   "nbconvert_exporter": "python",
   "pygments_lexer": "ipython3",
   "version": "3.13.5"
  }
 },
 "nbformat": 4,
 "nbformat_minor": 5
}
