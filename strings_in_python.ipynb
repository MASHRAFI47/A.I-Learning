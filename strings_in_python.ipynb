{
 "cells": [
  {
   "cell_type": "code",
   "execution_count": 7,
   "id": "26cb5090-7fc5-494e-945f-365a7f3eb1af",
   "metadata": {},
   "outputs": [
    {
     "name": "stdout",
     "output_type": "stream",
     "text": [
      "Hello world\n"
     ]
    }
   ],
   "source": [
    "print(\"Hello world\")"
   ]
  },
  {
   "cell_type": "code",
   "execution_count": 8,
   "id": "afdb8a72-67ea-48ac-b357-561fc20077c2",
   "metadata": {},
   "outputs": [
    {
     "name": "stdout",
     "output_type": "stream",
     "text": [
      "tell me about yourself?\n",
      "How are you?\n",
      "What are the odds?\n",
      "\n"
     ]
    }
   ],
   "source": [
    "prompt = \"\"\"tell me about yourself?\n",
    "How are you?\n",
    "What are the odds?\n",
    "\"\"\"\n",
    "print(prompt)"
   ]
  },
  {
   "cell_type": "code",
   "execution_count": 9,
   "id": "5e3b57a4-bf16-4d17-9eec-a78a418c41b8",
   "metadata": {},
   "outputs": [
    {
     "name": "stdout",
     "output_type": "stream",
     "text": [
      "l\n"
     ]
    }
   ],
   "source": [
    "str = \"Hello world\"\n",
    "print(str[3])"
   ]
  },
  {
   "cell_type": "markdown",
   "id": "24fe1656-1ad0-4c89-a61e-a5ec876d4ae2",
   "metadata": {},
   "source": [
    "### INDEXING AND SLICING"
   ]
  },
  {
   "cell_type": "code",
   "execution_count": 12,
   "id": "510358e0-f0cd-4716-8b4a-bed147142c20",
   "metadata": {
    "scrolled": true
   },
   "outputs": [
    {
     "name": "stdout",
     "output_type": "stream",
     "text": [
      "tell me about yourself?\n"
     ]
    }
   ],
   "source": [
    "prompt = \"\"\"tell me about yourself?\n",
    "How are you?\n",
    "What are the odds?\n",
    "\"\"\"\n",
    "print(prompt[0:23])"
   ]
  },
  {
   "cell_type": "code",
   "execution_count": 13,
   "id": "ae78b168-2e53-4d4f-b8bb-72ebdbbfdc89",
   "metadata": {},
   "outputs": [
    {
     "name": "stdout",
     "output_type": "stream",
     "text": [
      "tl eaotyusl?\n"
     ]
    }
   ],
   "source": [
    "prompt = \"\"\"tell me about yourself?\n",
    "How are you?\n",
    "What are the odds?\n",
    "\"\"\"\n",
    "print(prompt[0:23:2])"
   ]
  },
  {
   "cell_type": "code",
   "execution_count": 18,
   "id": "629287fb-5ab1-4c1f-8d9f-4a8cfa670f66",
   "metadata": {},
   "outputs": [
    {
     "name": "stdout",
     "output_type": "stream",
     "text": [
      "d\n"
     ]
    }
   ],
   "source": [
    "str = \"Hello world\"\n",
    "print(str[-1])"
   ]
  },
  {
   "cell_type": "markdown",
   "id": "b3eea0e9-f085-4e2a-a99a-422346d89da4",
   "metadata": {},
   "source": [
    "### STRING METHODS"
   ]
  },
  {
   "cell_type": "code",
   "execution_count": 19,
   "id": "f47ff458-1aad-47dd-9702-9134bdfd21d6",
   "metadata": {},
   "outputs": [
    {
     "name": "stdout",
     "output_type": "stream",
     "text": [
      "18\n"
     ]
    }
   ],
   "source": [
    "string = \"welcome to phitron\"\n",
    "print(len(string))"
   ]
  },
  {
   "cell_type": "code",
   "execution_count": 24,
   "id": "64b73970-c024-441e-b0fb-c1d7f2d31077",
   "metadata": {},
   "outputs": [
    {
     "name": "stdout",
     "output_type": "stream",
     "text": [
      "True\n",
      "False\n",
      "True\n",
      "True\n"
     ]
    }
   ],
   "source": [
    "string = \"welcome to phitron AI\"\n",
    "processed_string = string.lower()\n",
    "print(\"phitron\" in string)\n",
    "print(\"Phitron\" in string)\n",
    "print(\"o\" in string)\n",
    "print(\"ai\" in processed_string)"
   ]
  },
  {
   "cell_type": "code",
   "execution_count": 26,
   "id": "377199a4-5e9f-4c3d-9619-76b618d506b6",
   "metadata": {},
   "outputs": [
    {
     "name": "stdout",
     "output_type": "stream",
     "text": [
      "Welcome to phitron ai\n"
     ]
    }
   ],
   "source": [
    "string = \"welcome to phitron AI\"\n",
    "print(string.capitalize()) #first character capitalize"
   ]
  },
  {
   "cell_type": "code",
   "execution_count": 27,
   "id": "55f8ba75-97c6-4e2c-a76d-f4222d3d5213",
   "metadata": {},
   "outputs": [
    {
     "name": "stdout",
     "output_type": "stream",
     "text": [
      "<class 'bool'>\n"
     ]
    }
   ],
   "source": [
    "string = \"welcome to phitron AI\"\n",
    "#is the phitron word in string (bool)\n",
    "print(type(\"phitron\" in string))"
   ]
  },
  {
   "cell_type": "code",
   "execution_count": 29,
   "id": "cd876ed5-18c0-47e1-84d4-c242a51fa7df",
   "metadata": {},
   "outputs": [
    {
     "name": "stdout",
     "output_type": "stream",
     "text": [
      "11\n",
      "33\n",
      "2\n"
     ]
    }
   ],
   "source": [
    "string = \"welcome to phitron ai ml course, phitron\"\n",
    "#find index\n",
    "print(string.find(\"phitron\"))\n",
    "#reverse find index\n",
    "print(string.rfind(\"phitron\"))\n",
    "#count how many times the word occured in the string\n",
    "print(string.count(\"phitron\"))"
   ]
  },
  {
   "cell_type": "code",
   "execution_count": 33,
   "id": "8b8486ab-88c7-49cb-9c39-7555f47b22a4",
   "metadata": {},
   "outputs": [
    {
     "name": "stdout",
     "output_type": "stream",
     "text": [
      "welcome to phitron ai AI ML AI ML AI ML course AI ML AI ML, phitron\n"
     ]
    }
   ],
   "source": [
    "#replace a substring\n",
    "string = \"welcome to phitron ai ml ml ml course ml ml, phitron\"\n",
    "new_string = string.replace(\"ml\", \"AI ML\") #new string because string is immutable\n",
    "print(new_string)"
   ]
  },
  {
   "cell_type": "markdown",
   "id": "19d00a69-bdb8-485b-becf-a3765aa9321e",
   "metadata": {},
   "source": [
    "### Splitting, Joining, Formatted String"
   ]
  },
  {
   "cell_type": "code",
   "execution_count": 45,
   "id": "6a971217-97ce-4d1b-bc0c-4ae4082d2364",
   "metadata": {},
   "outputs": [
    {
     "name": "stdout",
     "output_type": "stream",
     "text": [
      "['welcome', 'to', 'phitron']\n",
      "['banana', ' apple', ' mango']\n",
      "welcome-to-phitron\n",
      "MASHRAFI BIN NUR is 23 years old and with height of 5.8\n",
      "the model accuracy is 83.33%\n",
      "the model accuracy is 10.8333\n"
     ]
    }
   ],
   "source": [
    "#split\n",
    "\n",
    "phitron = \"welcome to phitron\"\n",
    "new_phitron = phitron.split()\n",
    "print(new_phitron)\n",
    "\n",
    "items = \"banana, apple, mango\"\n",
    "new_items = items.split(\",\")\n",
    "print(new_items)\n",
    "\n",
    "#join\n",
    "sentence = \"-\".join(new_phitron)\n",
    "print(sentence)\n",
    "\n",
    "#formatted string\n",
    "name = \"Mashrafi Bin Nur\"\n",
    "age = 23\n",
    "height = 5.7523523532\n",
    "\n",
    "print(f\"{name.upper()} is {age} years old and with height of {height:.2}\")\n",
    "\n",
    "model_accuracy = 0.8333\n",
    "print(f\"the model accuracy is {model_accuracy:.2%}\")\n",
    "print(f\"the model accuracy is {model_accuracy+10}\")"
   ]
  },
  {
   "cell_type": "code",
   "execution_count": null,
   "id": "4c0cb286-d784-4a0b-8caf-88b0679eea44",
   "metadata": {},
   "outputs": [],
   "source": []
  }
 ],
 "metadata": {
  "kernelspec": {
   "display_name": "Python [conda env:base] *",
   "language": "python",
   "name": "conda-base-py"
  },
  "language_info": {
   "codemirror_mode": {
    "name": "ipython",
    "version": 3
   },
   "file_extension": ".py",
   "mimetype": "text/x-python",
   "name": "python",
   "nbconvert_exporter": "python",
   "pygments_lexer": "ipython3",
   "version": "3.13.5"
  }
 },
 "nbformat": 4,
 "nbformat_minor": 5
}
