{
 "cells": [
  {
   "cell_type": "markdown",
   "id": "f0345a27-ec68-4753-ae12-9a3316e6d5ff",
   "metadata": {},
   "source": [
    "### TUPLES"
   ]
  },
  {
   "cell_type": "code",
   "execution_count": 1,
   "id": "22353009-dff7-401a-960f-4e805fe2b5cc",
   "metadata": {},
   "outputs": [
    {
     "name": "stdout",
     "output_type": "stream",
     "text": [
      "(10, 10.5, 'str', True)\n"
     ]
    }
   ],
   "source": [
    "mixed_tpl = (10, 10.5, \"str\", True)\n",
    "print(mixed_tpl)"
   ]
  },
  {
   "cell_type": "code",
   "execution_count": 2,
   "id": "9b543c3f-bcda-4174-8904-158820d66eb6",
   "metadata": {},
   "outputs": [
    {
     "name": "stdout",
     "output_type": "stream",
     "text": [
      "<class 'int'>\n"
     ]
    }
   ],
   "source": [
    "tup = (10)\n",
    "print(type(tup))"
   ]
  },
  {
   "cell_type": "code",
   "execution_count": 3,
   "id": "f9eb3c12-4a06-4102-afef-65180deb375e",
   "metadata": {},
   "outputs": [
    {
     "name": "stdout",
     "output_type": "stream",
     "text": [
      "<class 'tuple'>\n",
      "<class 'tuple'>\n"
     ]
    }
   ],
   "source": [
    "tup = tuple([10])\n",
    "tup2 = (10, )\n",
    "\n",
    "print(type(tup))\n",
    "print(type(tup2))"
   ]
  },
  {
   "cell_type": "code",
   "execution_count": 4,
   "id": "3d6a746a-e21d-43b1-98fb-b1ad3439a424",
   "metadata": {},
   "outputs": [
    {
     "name": "stdout",
     "output_type": "stream",
     "text": [
      "10.5\n"
     ]
    }
   ],
   "source": [
    "#access\n",
    "tup = (10, 20, 30, 10.5, \"str\")\n",
    "print(tup[3])"
   ]
  },
  {
   "cell_type": "code",
   "execution_count": 5,
   "id": "c5e711b0-4851-4655-b2fd-6f3cc6b1380a",
   "metadata": {},
   "outputs": [
    {
     "name": "stdout",
     "output_type": "stream",
     "text": [
      "(10, 20, 30)\n"
     ]
    }
   ],
   "source": [
    "tup = (10, 20, 30, 10.5, \"str\", True)\n",
    "print(tup[0:3])"
   ]
  },
  {
   "cell_type": "code",
   "execution_count": 6,
   "id": "34cec3f7-96cd-4d87-87e9-4c5db167319f",
   "metadata": {},
   "outputs": [
    {
     "ename": "TypeError",
     "evalue": "'tuple' object does not support item assignment",
     "output_type": "error",
     "traceback": [
      "\u001b[1;31m---------------------------------------------------------------------------\u001b[0m",
      "\u001b[1;31mTypeError\u001b[0m                                 Traceback (most recent call last)",
      "Cell \u001b[1;32mIn[6], line 4\u001b[0m\n\u001b[0;32m      1\u001b[0m \u001b[38;5;66;03m#tuple is immutable\u001b[39;00m\n\u001b[0;32m      2\u001b[0m tup \u001b[38;5;241m=\u001b[39m (\u001b[38;5;241m10\u001b[39m, \u001b[38;5;241m20\u001b[39m, \u001b[38;5;241m30\u001b[39m, \u001b[38;5;241m10.5\u001b[39m, \u001b[38;5;124m\"\u001b[39m\u001b[38;5;124mstr\u001b[39m\u001b[38;5;124m\"\u001b[39m, \u001b[38;5;28;01mTrue\u001b[39;00m)\n\u001b[1;32m----> 4\u001b[0m tup[\u001b[38;5;241m1\u001b[39m] \u001b[38;5;241m=\u001b[39m \u001b[38;5;241m100\u001b[39m\n\u001b[0;32m      5\u001b[0m \u001b[38;5;28mprint\u001b[39m(tup)\n",
      "\u001b[1;31mTypeError\u001b[0m: 'tuple' object does not support item assignment"
     ]
    }
   ],
   "source": [
    "#tuple is immutable\n",
    "tup = (10, 20, 30, 10.5, \"str\", True)\n",
    "\n",
    "tup[1] = 100\n",
    "print(tup)"
   ]
  },
  {
   "cell_type": "markdown",
   "id": "0aaff165-a4d3-4342-8367-ebccff9cfde0",
   "metadata": {},
   "source": [
    "### TUPLE METHODS"
   ]
  },
  {
   "cell_type": "code",
   "execution_count": 7,
   "id": "23ddfa63-4b46-4ba9-9ae0-78f5e410e576",
   "metadata": {},
   "outputs": [
    {
     "name": "stdout",
     "output_type": "stream",
     "text": [
      "1\n",
      "2\n"
     ]
    }
   ],
   "source": [
    "#tuple methods\n",
    "\n",
    "tup = (10, 20, 30, 10.5, \"str\", True)\n",
    "print(tup.count(10))\n",
    "print(tup.index(30))"
   ]
  },
  {
   "cell_type": "markdown",
   "id": "8b4f7583-1f51-4d93-b215-01b0d1e93176",
   "metadata": {},
   "source": [
    "### SETS"
   ]
  },
  {
   "cell_type": "code",
   "execution_count": 8,
   "id": "dc631753-6645-46ec-b2f1-bc55b4b88fb1",
   "metadata": {},
   "outputs": [
    {
     "name": "stdout",
     "output_type": "stream",
     "text": [
      "<class 'set'> {1, 2, 3}\n"
     ]
    }
   ],
   "source": [
    "A = {1, 2, 3}\n",
    "print(type(A), A)"
   ]
  },
  {
   "cell_type": "code",
   "execution_count": 10,
   "id": "0442c379-088a-4bce-b220-098b697940cb",
   "metadata": {},
   "outputs": [
    {
     "name": "stdout",
     "output_type": "stream",
     "text": [
      "<class 'dict'>\n",
      "<class 'set'>\n"
     ]
    }
   ],
   "source": [
    "S = {} #python will think the empty set as an dictionary\n",
    "\n",
    "print(type(S))\n",
    "\n",
    "#fix\n",
    "S2 = set()\n",
    "print(type(S2))"
   ]
  },
  {
   "cell_type": "code",
   "execution_count": 13,
   "id": "7b9c613b-58a3-4b17-b349-1c3b3e41b50f",
   "metadata": {},
   "outputs": [
    {
     "name": "stdout",
     "output_type": "stream",
     "text": [
      "Present\n",
      "Not Present\n"
     ]
    }
   ],
   "source": [
    "S = {1, 2, 3, 4, 5}\n",
    "\n",
    "if 2 in S:\n",
    "    print(\"Present\")\n",
    "else:\n",
    "    print(\"Not Present\")\n",
    "\n",
    "\n",
    "if 6 in S:\n",
    "    print(\"Present\")\n",
    "else:\n",
    "    print(\"Not Present\")"
   ]
  },
  {
   "cell_type": "code",
   "execution_count": 14,
   "id": "aa8c9340-b244-45e0-9202-f15ea94e44a0",
   "metadata": {},
   "outputs": [
    {
     "name": "stdout",
     "output_type": "stream",
     "text": [
      "1\n",
      "2\n",
      "3\n",
      "4\n",
      "5\n"
     ]
    }
   ],
   "source": [
    "#iterable\n",
    "S = {1, 2, 3, 4, 5}\n",
    "\n",
    "for element in S:\n",
    "    print(element)"
   ]
  },
  {
   "cell_type": "code",
   "execution_count": 17,
   "id": "5affd56d-8a48-4561-8066-58b0819da45c",
   "metadata": {},
   "outputs": [
    {
     "name": "stdout",
     "output_type": "stream",
     "text": [
      "{1, 2, 3, 4, 5, 20, 10}\n",
      "{2, 3, 4, 5, 20, 10}\n",
      "{2, 4, 5, 20, 10}\n"
     ]
    }
   ],
   "source": [
    "s = {1, 2, 3, 4, 5}\n",
    "\n",
    "s.add(10)\n",
    "s.add(20)\n",
    "print(s)\n",
    "\n",
    "s.pop()\n",
    "print(s)\n",
    "\n",
    "s.remove(3)\n",
    "print(s)"
   ]
  },
  {
   "cell_type": "markdown",
   "id": "65e5a00a-07dd-4dc9-8996-fb8a715a8af5",
   "metadata": {},
   "source": [
    "### SET MATHEMATICAL METHODS"
   ]
  },
  {
   "cell_type": "code",
   "execution_count": 18,
   "id": "c99ab7e4-2e3c-4283-a4f3-365d6b068c9e",
   "metadata": {},
   "outputs": [
    {
     "name": "stdout",
     "output_type": "stream",
     "text": [
      "{1, 2, 3, 4}\n",
      "{2, 3}\n"
     ]
    }
   ],
   "source": [
    "a = {1, 2, 3}\n",
    "b = {2, 3, 4}\n",
    "\n",
    "print(a.union(b))\n",
    "print(a.intersection(b))"
   ]
  },
  {
   "cell_type": "code",
   "execution_count": 22,
   "id": "a85b82b8-1ce6-468c-97d1-e46f953f55c3",
   "metadata": {},
   "outputs": [
    {
     "name": "stdout",
     "output_type": "stream",
     "text": [
      "True\n"
     ]
    }
   ],
   "source": [
    "#disjoint set\n",
    "a = {1, 2, 3}\n",
    "b = {4, 5, 6}\n",
    "\n",
    "print(a.isdisjoint(b)) #no connected points"
   ]
  },
  {
   "cell_type": "code",
   "execution_count": 23,
   "id": "265ea8a0-db19-4490-8cd1-220857a57eb6",
   "metadata": {},
   "outputs": [
    {
     "name": "stdout",
     "output_type": "stream",
     "text": [
      "True\n"
     ]
    }
   ],
   "source": [
    "#subset\n",
    "a = {1, 2, 3}\n",
    "b = {1, 2, 3, 4, 5}\n",
    "\n",
    "print(a.issubset(b)) # 1, 2, 3 present in a also as well as b"
   ]
  },
  {
   "cell_type": "markdown",
   "id": "706394ff-c7b8-4b14-9da2-1452173e80ba",
   "metadata": {},
   "source": [
    "### DICTIONARY"
   ]
  },
  {
   "cell_type": "code",
   "execution_count": 24,
   "id": "f84e94ff-e320-49e1-88a5-17eba0f90f98",
   "metadata": {},
   "outputs": [
    {
     "name": "stdout",
     "output_type": "stream",
     "text": [
      "<class 'dict'>\n"
     ]
    }
   ],
   "source": [
    "dic = {}\n",
    "print(type(dic))"
   ]
  },
  {
   "cell_type": "code",
   "execution_count": 25,
   "id": "ec20f65f-f2f8-4f3b-bc0c-6b02f4f0e984",
   "metadata": {},
   "outputs": [
    {
     "name": "stdout",
     "output_type": "stream",
     "text": [
      "{'name': 'Mashrafi Bin Nur', 'age': 23, 'address': 'Dhaka', 'numbers': [10, 20, 30, 40]}\n"
     ]
    }
   ],
   "source": [
    "dic = {\"name\": \"Mashrafi Bin Nur\", \"age\": 23, \"address\": \"Dhaka\", \"numbers\": [10, 20, 30, 40]}\n",
    "print(dic)"
   ]
  },
  {
   "cell_type": "code",
   "execution_count": 28,
   "id": "ae2a7a67-aa16-4e7d-8557-6cfa3aa609ee",
   "metadata": {},
   "outputs": [
    {
     "name": "stdout",
     "output_type": "stream",
     "text": [
      "Mashrafi Bin Nur\n",
      "Mashrafi Bin Nur\n"
     ]
    }
   ],
   "source": [
    "#access\n",
    "\n",
    "dic = {\"name\": \"Mashrafi Bin Nur\", \"age\": 23, \"address\": \"Dhaka\", \"numbers\": [10, 20, 30, 40]}\n",
    "\n",
    "print(dic[\"name\"])\n",
    "print(dic.get(\"name\"))"
   ]
  },
  {
   "cell_type": "code",
   "execution_count": 29,
   "id": "44611355-5293-4279-b023-56f68efd3b42",
   "metadata": {},
   "outputs": [
    {
     "name": "stdout",
     "output_type": "stream",
     "text": [
      "{'name': 'Phitron AI ML', 'age': 23, 'address': 'Dhaka', 'numbers': [10, 20, 30, 40]}\n"
     ]
    }
   ],
   "source": [
    "dic = {\"name\": \"Mashrafi Bin Nur\", \"age\": 23, \"address\": \"Dhaka\", \"numbers\": [10, 20, 30, 40]}\n",
    "dic[\"name\"] = \"Phitron AI ML\"\n",
    "print(dic)"
   ]
  },
  {
   "cell_type": "code",
   "execution_count": 31,
   "id": "a2effedf-3bed-4a9d-bc95-7fc357581e64",
   "metadata": {},
   "outputs": [
    {
     "name": "stdout",
     "output_type": "stream",
     "text": [
      "{'name': 'Mashrafi Bin Nur', 'age': 30, 'address': 'Dhaka', 'numbers': [10, 20, 30, 40]}\n"
     ]
    }
   ],
   "source": [
    "dic = {\"name\": \"Mashrafi Bin Nur\", \"age\": 23, \"address\": \"Dhaka\", \"numbers\": [10, 20, 30, 40], \"age\": 30}\n",
    "#if there are duplicate keys, it will get the last duplicate key value\n",
    "print(dic)"
   ]
  },
  {
   "cell_type": "markdown",
   "id": "9da6bcad-a148-4075-8cef-160ba7248b1a",
   "metadata": {},
   "source": [
    "### DICTIONARY METHODS"
   ]
  },
  {
   "cell_type": "code",
   "execution_count": 35,
   "id": "64fd6f83-a4dc-4bb5-88bd-c5a7ebf686bc",
   "metadata": {},
   "outputs": [
    {
     "name": "stdout",
     "output_type": "stream",
     "text": [
      "None\n",
      "0\n",
      "{'name': 'Mashrafi Bin Nur', 'age': 30, 'address': 'Dhaka', 'numbers': [10, 20, 30, 40]}\n"
     ]
    }
   ],
   "source": [
    "dic = {\"name\": \"Mashrafi Bin Nur\", \"age\": 23, \"address\": \"Dhaka\", \"numbers\": [10, 20, 30, 40], \"age\": 30}\n",
    "\n",
    "print(dic.get(\"math_marks\"))\n",
    "print(dic.get(\"math_marks\", 0))\n",
    "print(dic)"
   ]
  },
  {
   "cell_type": "code",
   "execution_count": 37,
   "id": "e1068ab2-d608-46a3-b605-01a2d8d97cc2",
   "metadata": {},
   "outputs": [
    {
     "name": "stdout",
     "output_type": "stream",
     "text": [
      "{'name': 'Mashrafi Bin Nur', 'age': 30, 'address': 'Dhaka', 'numbers': [10, 20, 30, 40], 'math_marks': 80}\n"
     ]
    }
   ],
   "source": [
    "# add value in dictionary\n",
    "dic = {\"name\": \"Mashrafi Bin Nur\", \"age\": 23, \"address\": \"Dhaka\", \"numbers\": [10, 20, 30, 40], \"age\": 30}\n",
    "\n",
    "dic[\"math_marks\"] = 80\n",
    "print(dic)"
   ]
  },
  {
   "cell_type": "code",
   "execution_count": 40,
   "id": "19acc02b-306b-42de-b5b1-9b51974fd479",
   "metadata": {},
   "outputs": [
    {
     "name": "stdout",
     "output_type": "stream",
     "text": [
      "{'name': 'Mashrafi Bin Nur', 'age': 30, 'address': 'Dhaka', 'numbers': [10, 20, 30, 40], 'english_marks': 55}\n"
     ]
    }
   ],
   "source": [
    "# add using update method\n",
    "\n",
    "dic = {\"name\": \"Mashrafi Bin Nur\", \"age\": 23, \"address\": \"Dhaka\", \"numbers\": [10, 20, 30, 40], \"age\": 30}\n",
    "\n",
    "dic.update({\"english_marks\": 55})\n",
    "print(dic)"
   ]
  },
  {
   "cell_type": "code",
   "execution_count": 41,
   "id": "b9e0c96a-53c5-4e90-8698-28fd5491620f",
   "metadata": {},
   "outputs": [
    {
     "name": "stdout",
     "output_type": "stream",
     "text": [
      "{'age': 30, 'address': 'Dhaka', 'numbers': [10, 20, 30, 40]}\n"
     ]
    }
   ],
   "source": [
    "# deletion\n",
    "dic = {\"name\": \"Mashrafi Bin Nur\", \"age\": 23, \"address\": \"Dhaka\", \"numbers\": [10, 20, 30, 40], \"age\": 30}\n",
    "\n",
    "del dic[\"name\"]\n",
    "\n",
    "print(dic)"
   ]
  },
  {
   "cell_type": "code",
   "execution_count": 43,
   "id": "be228fea-d8af-463b-b80a-c532982ed660",
   "metadata": {},
   "outputs": [
    {
     "name": "stdout",
     "output_type": "stream",
     "text": [
      "{'age': 30, 'address': 'Dhaka', 'numbers': [10, 20, 30, 40]}\n"
     ]
    }
   ],
   "source": [
    "#copy\n",
    "dic2 = dic.copy()\n",
    "print(dic2)"
   ]
  },
  {
   "cell_type": "code",
   "execution_count": 45,
   "id": "a8231fd8-35ed-466c-888d-7689d85ad981",
   "metadata": {},
   "outputs": [
    {
     "ename": "TypeError",
     "evalue": "unhashable type: 'list'",
     "output_type": "error",
     "traceback": [
      "\u001b[1;31m---------------------------------------------------------------------------\u001b[0m",
      "\u001b[1;31mTypeError\u001b[0m                                 Traceback (most recent call last)",
      "Cell \u001b[1;32mIn[45], line 2\u001b[0m\n\u001b[0;32m      1\u001b[0m \u001b[38;5;66;03m#testing\u001b[39;00m\n\u001b[1;32m----> 2\u001b[0m dic_3 \u001b[38;5;241m=\u001b[39m {[\u001b[38;5;241m10\u001b[39m, \u001b[38;5;241m20\u001b[39m] : \u001b[38;5;124m\"\u001b[39m\u001b[38;5;124ma\u001b[39m\u001b[38;5;124m\"\u001b[39m}\n",
      "\u001b[1;31mTypeError\u001b[0m: unhashable type: 'list'"
     ]
    }
   ],
   "source": [
    "#testing\n",
    "dic_3 = {[10, 20] : \"a\"}"
   ]
  },
  {
   "cell_type": "code",
   "execution_count": 46,
   "id": "d30d22b9-02f7-4d82-a0d1-4e88a96018dd",
   "metadata": {},
   "outputs": [
    {
     "name": "stdout",
     "output_type": "stream",
     "text": [
      "{(10, 20): 'a'}\n"
     ]
    }
   ],
   "source": [
    "dic_3 = {(10, 20) : \"a\"}\n",
    "print(dic_3)"
   ]
  },
  {
   "cell_type": "code",
   "execution_count": 47,
   "id": "424da5e1-3979-45d4-9144-18b8475b689f",
   "metadata": {},
   "outputs": [
    {
     "name": "stdout",
     "output_type": "stream",
     "text": [
      "{'key': [10, 20, 30]}\n"
     ]
    }
   ],
   "source": [
    "dic_3 = {\"key\" : [10, 20, 30]}\n",
    "print(dic_3)"
   ]
  },
  {
   "cell_type": "code",
   "execution_count": 48,
   "id": "8eb289c3-20ac-4de2-9bf6-ee734f1d2a77",
   "metadata": {},
   "outputs": [
    {
     "name": "stdout",
     "output_type": "stream",
     "text": [
      "dict_keys(['name', 'age', 'address', 'numbers'])\n",
      "dict_values(['Mashrafi Bin Nur', 30, 'Dhaka', [10, 20, 30, 40]])\n",
      "dict_items([('name', 'Mashrafi Bin Nur'), ('age', 30), ('address', 'Dhaka'), ('numbers', [10, 20, 30, 40])])\n"
     ]
    }
   ],
   "source": [
    "dic = {\"name\": \"Mashrafi Bin Nur\", \"age\": 23, \"address\": \"Dhaka\", \"numbers\": [10, 20, 30, 40], \"age\": 30}\n",
    "\n",
    "keys = dic.keys()\n",
    "values = dic.values()\n",
    "items = dic.items()\n",
    "\n",
    "print(keys)\n",
    "print(values)\n",
    "print(items)"
   ]
  },
  {
   "cell_type": "code",
   "execution_count": 49,
   "id": "707aec12-1fab-4530-9689-8d01b730abb1",
   "metadata": {},
   "outputs": [
    {
     "name": "stdout",
     "output_type": "stream",
     "text": [
      "name Mashrafi Bin Nur\n",
      "age 30\n",
      "address Dhaka\n",
      "numbers [10, 20, 30, 40]\n"
     ]
    }
   ],
   "source": [
    "dic = {\"name\": \"Mashrafi Bin Nur\", \"age\": 23, \"address\": \"Dhaka\", \"numbers\": [10, 20, 30, 40], \"age\": 30}\n",
    "\n",
    "for key, value in dic.items():\n",
    "    print(key, value)"
   ]
  },
  {
   "cell_type": "markdown",
   "id": "e86c2c41-0390-4a6a-8683-cd527e529f10",
   "metadata": {},
   "source": [
    "### DICTIONARY COMPREHENSION"
   ]
  },
  {
   "cell_type": "code",
   "execution_count": 1,
   "id": "20650600-87aa-4f0a-ac95-b92f6461717c",
   "metadata": {},
   "outputs": [
    {
     "name": "stdout",
     "output_type": "stream",
     "text": [
      "{0: 0, 1: 1, 2: 4, 3: 9, 4: 16, 5: 25, 6: 36, 7: 49, 8: 64, 9: 81}\n"
     ]
    }
   ],
   "source": [
    "squares = {x: x**2 for x in range(10)}\n",
    "print(squares)"
   ]
  },
  {
   "cell_type": "code",
   "execution_count": 2,
   "id": "292b7639-fe5d-4dcc-adac-b4600b3f41d2",
   "metadata": {},
   "outputs": [
    {
     "name": "stdout",
     "output_type": "stream",
     "text": [
      "{(10, 10.5): 'dhaka', (20.5, 192): 'chattogram', (101, 102): 'sylhet'}\n"
     ]
    }
   ],
   "source": [
    "Co_ordinates = [(10, 10.5), (20.5, 192), (101, 102)]\n",
    "Locations = [\"dhaka\", \"chattogram\", \"sylhet\"]\n",
    "\n",
    "exact_location = {co_or : loc for co_or, loc in zip(Co_ordinates, Locations)}\n",
    "\n",
    "print(exact_location)"
   ]
  },
  {
   "cell_type": "code",
   "execution_count": null,
   "id": "7cf96f43-a422-4d59-8f56-3066d0be47a3",
   "metadata": {},
   "outputs": [],
   "source": []
  }
 ],
 "metadata": {
  "kernelspec": {
   "display_name": "Python [conda env:base] *",
   "language": "python",
   "name": "conda-base-py"
  },
  "language_info": {
   "codemirror_mode": {
    "name": "ipython",
    "version": 3
   },
   "file_extension": ".py",
   "mimetype": "text/x-python",
   "name": "python",
   "nbconvert_exporter": "python",
   "pygments_lexer": "ipython3",
   "version": "3.13.5"
  }
 },
 "nbformat": 4,
 "nbformat_minor": 5
}
