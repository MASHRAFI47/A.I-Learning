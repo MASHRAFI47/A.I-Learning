{
 "cells": [
  {
   "cell_type": "markdown",
   "id": "82c27857",
   "metadata": {},
   "source": [
    "## Problem 1: Common Friends (Set Operations)\n",
    "### Problem:\n",
    " ###### Given two sets of friends from two people, find the mutual friends, unique friends of each, and the total number of unique friends.\n",
    "##### Example Input:\n",
    "###### a_friends = {\"Rahim\", \"Karim\", \"Sakib\", \"Jamal\"}\n",
    "###### b_friends = {\"Sakib\", \"Jamal\", \"Rafiq\", \"Nadim\"}\n",
    "\n",
    "##### Expected Output:\n",
    "###### Mutual friends: {'Sakib', 'Jamal'}\n",
    "###### Unique to A: {'Rahim', 'Karim'}\n",
    "###### Unique to B: {'Rafiq', 'Nadim'}\n",
    "###### Total unique friends: 6\n"
   ]
  },
  {
   "cell_type": "code",
   "execution_count": 35,
   "id": "df3176a5",
   "metadata": {},
   "outputs": [
    {
     "name": "stdout",
     "output_type": "stream",
     "text": [
      "Mutual Friends {'Sakib', 'Jamal'}\n",
      "Unique to A: {'Karim', 'Rahim'}\n",
      "Unique to B: {'Nadim', 'Rafiq'}\n",
      "Total Unique Friends 6\n"
     ]
    }
   ],
   "source": [
    "# Rahim Karim Sakib Jamal\n",
    "# Sakib Jamal Rafiq Nadim\n",
    "\n",
    "inp = input()\n",
    "inp_split = inp.split()\n",
    "\n",
    "inp2 = input()\n",
    "inp2_split = inp2.split()\n",
    "\n",
    "a_friends = set(inp_split)\n",
    "b_friends = set(inp2_split)\n",
    "\n",
    "mutual = a_friends.intersection(b_friends)\n",
    "print(\"Mutual Friends\", mutual)\n",
    "\n",
    "\n",
    "unique_a = a_friends - b_friends\n",
    "print(\"Unique to A:\",unique_a)\n",
    "\n",
    "unique_b = b_friends - a_friends\n",
    "print(\"Unique to B:\",unique_b)\n",
    "\n",
    "all_friends = a_friends.union(b_friends)\n",
    "print(\"Total Unique Friends\", len(all_friends))"
   ]
  },
  {
   "cell_type": "markdown",
   "id": "477a4599",
   "metadata": {},
   "source": [
    "### Problem 2: Sort Students by Marks (Tuple + Dictionary)\n",
    "#### Problem:\n",
    " ###### You are given a list of tuples — each containing a student’s name and mark.\n",
    " ###### Sort them in descending order of marks and print the top 3 scorers.\n",
    "#### Example Input:\n",
    "###### students = [(\"Rafi\", 89), (\"Sumi\", 95), (\"Hasan\", 90), (\"Nila\", 75), (\"Anik\", 98)]\n",
    "\n",
    "#### Expected Output:\n",
    "###### Top 3 students:\n",
    "###### Anik - 98\n",
    "###### Sumi - 95\n",
    "###### Hasan - 90\n"
   ]
  },
  {
   "cell_type": "code",
   "execution_count": 44,
   "id": "e8d08f7a",
   "metadata": {},
   "outputs": [
    {
     "ename": "ValueError",
     "evalue": "invalid literal for int() with base 10: ''",
     "output_type": "error",
     "traceback": [
      "\u001b[31m---------------------------------------------------------------------------\u001b[39m",
      "\u001b[31mValueError\u001b[39m                                Traceback (most recent call last)",
      "\u001b[36mCell\u001b[39m\u001b[36m \u001b[39m\u001b[32mIn[44]\u001b[39m\u001b[32m, line 10\u001b[39m\n\u001b[32m      1\u001b[39m \u001b[33;03m'''\u001b[39;00m\n\u001b[32m      2\u001b[39m \u001b[33;03m    5\u001b[39;00m\n\u001b[32m      3\u001b[39m \u001b[33;03m    Rafi 89\u001b[39;00m\n\u001b[32m   (...)\u001b[39m\u001b[32m      7\u001b[39m \u001b[33;03m    Anik 98\u001b[39;00m\n\u001b[32m      8\u001b[39m \u001b[33;03m'''\u001b[39;00m\n\u001b[32m---> \u001b[39m\u001b[32m10\u001b[39m t = \u001b[38;5;28;43mint\u001b[39;49m\u001b[43m(\u001b[49m\u001b[38;5;28;43minput\u001b[39;49m\u001b[43m(\u001b[49m\u001b[43m)\u001b[49m\u001b[43m)\u001b[49m\n\u001b[32m     12\u001b[39m students = []\n\u001b[32m     13\u001b[39m students_dict = {}\n",
      "\u001b[31mValueError\u001b[39m: invalid literal for int() with base 10: ''"
     ]
    }
   ],
   "source": [
    "'''\n",
    "    5\n",
    "    Rafi 89\n",
    "    Sumi 95\n",
    "    Hasan 90\n",
    "    Nila 75\n",
    "    Anik 98\n",
    "'''\n",
    "\n",
    "t = int(input())\n",
    "\n",
    "students = []\n",
    "students_dict = {}\n",
    "for i in range(t):\n",
    "    name = input(\"Enter name: \")\n",
    "    marks = int(input(\"Enter marks: \"))\n",
    "    students.append((name, marks))\n",
    "\n",
    "    students_dict[name] = marks\n",
    "\n",
    "print(students)\n",
    "\n",
    "highest_three_students = {}\n",
    "\n"
   ]
  },
  {
   "cell_type": "markdown",
   "id": "2a5a49f3",
   "metadata": {},
   "source": [
    "## Problem 3: Word Length Filter (Lambda + Filter)\n",
    "#### Problem:\n",
    " ###### Given a list of words, use filter() and lambda to return only words whose length is greater than 4.\n",
    " ###### Example Input:\n",
    " ###### words = [\"sun\", \"planet\", \"moon\", \"star\", \"universe\"]\n",
    "\n",
    "##### Expected Output:\n",
    "###### ['planet', 'universe']\n"
   ]
  },
  {
   "cell_type": "code",
   "execution_count": 46,
   "id": "e7ab337b",
   "metadata": {},
   "outputs": [
    {
     "name": "stdout",
     "output_type": "stream",
     "text": [
      "['planet', 'universe']\n"
     ]
    }
   ],
   "source": [
    "words = [\"sun\", \"planet\", \"moon\", \"star\", \"universe\"]\n",
    "\n",
    "filtered_words = filter(lambda x : len(x) > 4 ,words)\n",
    "print(list(filtered_words))"
   ]
  },
  {
   "cell_type": "markdown",
   "id": "1e68ca0b",
   "metadata": {},
   "source": [
    "### Problem 4: Square of Even Numbers (Map + Filter + Lambda)\n",
    "#### Problem:\n",
    " ###### Write a one-line Python expression using map(), filter(), and lambda that takes a list of integers and returns the squares of even numbers only.\n",
    "##### Example Input:\n",
    "###### nums = [1, 2, 3, 4, 5, 6]\n",
    "\n",
    "##### Expected Output:\n",
    "###### [4, 16, 36]\n"
   ]
  },
  {
   "cell_type": "code",
   "execution_count": null,
   "id": "5d6fd870",
   "metadata": {},
   "outputs": [
    {
     "ename": "SyntaxError",
     "evalue": "invalid syntax (556757702.py, line 3)",
     "output_type": "error",
     "traceback": [
      "  \u001b[36mCell\u001b[39m\u001b[36m \u001b[39m\u001b[32mIn[65]\u001b[39m\u001b[32m, line 3\u001b[39m\n\u001b[31m    \u001b[39m\u001b[31msquare_of_even_numbers = filter(lambda y : map(lambda y : y**2, nums) if y%2==0 else continue, nums)\u001b[39m\n                                                                                         ^\n\u001b[31mSyntaxError\u001b[39m\u001b[31m:\u001b[39m invalid syntax\n"
     ]
    }
   ],
   "source": [
    "nums = [1, 2, 3, 4, 5, 6]\n",
    "\n",
    "square_of_even_numbers = filter(lambda y : map(lambda y : y**2, nums) if y%2==0 else 0, nums)\n",
    "print(list(square_of_even_numbers))"
   ]
  },
  {
   "cell_type": "code",
   "execution_count": 71,
   "id": "78bef68d",
   "metadata": {},
   "outputs": [
    {
     "name": "stdout",
     "output_type": "stream",
     "text": [
      "Learning python is fun\n"
     ]
    }
   ],
   "source": [
    "with open(\"data.txt\", \"w+\") as file:\n",
    "    file.write(\"Learning python is fun\")\n",
    "\n",
    "    file.seek(0)\n",
    "    \n",
    "    print(file.read())"
   ]
  },
  {
   "cell_type": "code",
   "execution_count": null,
   "id": "722c4eaf",
   "metadata": {},
   "outputs": [],
   "source": []
  }
 ],
 "metadata": {
  "kernelspec": {
   "display_name": "Python 3",
   "language": "python",
   "name": "python3"
  },
  "language_info": {
   "codemirror_mode": {
    "name": "ipython",
    "version": 3
   },
   "file_extension": ".py",
   "mimetype": "text/x-python",
   "name": "python",
   "nbconvert_exporter": "python",
   "pygments_lexer": "ipython3",
   "version": "3.13.7"
  }
 },
 "nbformat": 4,
 "nbformat_minor": 5
}
