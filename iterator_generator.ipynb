{
 "cells": [
  {
   "cell_type": "markdown",
   "id": "5c17fb21-8f05-4acd-bd37-1d94e8e3e8a5",
   "metadata": {},
   "source": [
    "## Iterator"
   ]
  },
  {
   "cell_type": "code",
   "execution_count": 4,
   "id": "d59f6086-6e85-4932-bf2c-6cb889db2dca",
   "metadata": {},
   "outputs": [
    {
     "name": "stdout",
     "output_type": "stream",
     "text": [
      "<class 'set_iterator'>\n",
      "<set_iterator object at 0x000001C9330613C0>\n",
      "50\n",
      "20\n",
      "40\n"
     ]
    }
   ],
   "source": [
    "s = {10, 20, 30, 40, 50}\n",
    "\n",
    "s_iter = iter(s)\n",
    "\n",
    "print(type(s_iter))\n",
    "print(s_iter)\n",
    "\n",
    "print(next(s_iter))\n",
    "print(next(s_iter))\n",
    "print(next(s_iter))"
   ]
  },
  {
   "cell_type": "markdown",
   "id": "91078fc9-ff1e-4c72-8cf6-eb2051bde5f9",
   "metadata": {},
   "source": [
    "## Generator"
   ]
  },
  {
   "cell_type": "code",
   "execution_count": 13,
   "id": "c5d8d225-c445-49ed-ab24-faf0fd70b4c5",
   "metadata": {},
   "outputs": [
    {
     "name": "stdout",
     "output_type": "stream",
     "text": [
      "<class 'generator'>\n",
      "[0, 1, 2, 3, 4]\n",
      "[5, 6, 7, 8, 9]\n"
     ]
    }
   ],
   "source": [
    "lst = [x for x in range(500)]\n",
    "\n",
    "def data_loader(chunk_size, lst):\n",
    "    for i in range(0, len(lst), chunk_size):\n",
    "        yield lst[i: i+chunk_size]\n",
    "\n",
    "x = data_loader(5, lst)\n",
    "\n",
    "print(type(x))\n",
    "\n",
    "print(next(x))\n",
    "print(next(x))"
   ]
  },
  {
   "cell_type": "code",
   "execution_count": null,
   "id": "b0f4e8cc-b2de-4b70-a12c-224ff125ea9c",
   "metadata": {},
   "outputs": [],
   "source": []
  }
 ],
 "metadata": {
  "kernelspec": {
   "display_name": "Python [conda env:base] *",
   "language": "python",
   "name": "conda-base-py"
  },
  "language_info": {
   "codemirror_mode": {
    "name": "ipython",
    "version": 3
   },
   "file_extension": ".py",
   "mimetype": "text/x-python",
   "name": "python",
   "nbconvert_exporter": "python",
   "pygments_lexer": "ipython3",
   "version": "3.13.5"
  }
 },
 "nbformat": 4,
 "nbformat_minor": 5
}
