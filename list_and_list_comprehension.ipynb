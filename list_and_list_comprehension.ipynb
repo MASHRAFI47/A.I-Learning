{
 "cells": [
  {
   "cell_type": "markdown",
   "id": "3d3f593f-8618-4fca-90de-47aafa3525e2",
   "metadata": {},
   "source": [
    "### LIST"
   ]
  },
  {
   "cell_type": "code",
   "execution_count": 12,
   "id": "73f1f9ce-2e88-490b-b0cd-a9950a24a1eb",
   "metadata": {},
   "outputs": [
    {
     "name": "stdout",
     "output_type": "stream",
     "text": [
      "[100, 20, 30, 40, 50]\n"
     ]
    }
   ],
   "source": [
    "numbers = [100, 20, 30, 40, 50]\n",
    "print(numbers)"
   ]
  },
  {
   "cell_type": "code",
   "execution_count": 13,
   "id": "4b59ef66-7da2-4cd3-9f3a-89c814fad5fa",
   "metadata": {},
   "outputs": [
    {
     "name": "stdout",
     "output_type": "stream",
     "text": [
      "100\n"
     ]
    }
   ],
   "source": [
    "#slice \n",
    "print(numbers[0])"
   ]
  },
  {
   "cell_type": "code",
   "execution_count": 4,
   "id": "051290c6-79b7-4d06-b6dc-58f7a7f9a119",
   "metadata": {},
   "outputs": [
    {
     "name": "stdout",
     "output_type": "stream",
     "text": [
      "30\n"
     ]
    }
   ],
   "source": [
    "print(numbers[2])"
   ]
  },
  {
   "cell_type": "code",
   "execution_count": 5,
   "id": "86e75190-66fd-4f04-bdfa-39537d83a857",
   "metadata": {},
   "outputs": [
    {
     "name": "stdout",
     "output_type": "stream",
     "text": [
      "[100, 20]\n"
     ]
    }
   ],
   "source": [
    "print(numbers[0:2])  "
   ]
  },
  {
   "cell_type": "markdown",
   "id": "bce820b0-56d0-4a29-87a7-ea38e8b656de",
   "metadata": {},
   "source": [
    "### MODIFICATION"
   ]
  },
  {
   "cell_type": "code",
   "execution_count": 15,
   "id": "fa8c5f3b-635f-4b20-b5e9-9e30fb7f1442",
   "metadata": {},
   "outputs": [
    {
     "name": "stdout",
     "output_type": "stream",
     "text": [
      "[100, 20, 300, 30, 40, 50, 200]\n"
     ]
    }
   ],
   "source": [
    "numbers.append(200)\n",
    "print(numbers)"
   ]
  },
  {
   "cell_type": "code",
   "execution_count": 14,
   "id": "82ede9a1-a286-4c12-88d7-78668e7b6d09",
   "metadata": {},
   "outputs": [
    {
     "name": "stdout",
     "output_type": "stream",
     "text": [
      "[100, 20, 300, 30, 40, 50]\n"
     ]
    }
   ],
   "source": [
    "numbers.insert(2, 300)\n",
    "print(numbers)"
   ]
  },
  {
   "cell_type": "code",
   "execution_count": 16,
   "id": "0e3362b9-7e3e-4b20-9a02-d138c6417bcc",
   "metadata": {},
   "outputs": [
    {
     "name": "stdout",
     "output_type": "stream",
     "text": [
      "[100, 20, 300, 30, 40, 50]\n"
     ]
    }
   ],
   "source": [
    "numbers.pop()\n",
    "print(numbers)"
   ]
  },
  {
   "cell_type": "code",
   "execution_count": 17,
   "id": "d25841e8-cc36-4a11-a07d-572f4b8b38f9",
   "metadata": {},
   "outputs": [
    {
     "name": "stdout",
     "output_type": "stream",
     "text": [
      "[100, 20, 300, 40, 50]\n"
     ]
    }
   ],
   "source": [
    "numbers.remove(30)\n",
    "print(numbers)"
   ]
  },
  {
   "cell_type": "code",
   "execution_count": 19,
   "id": "48c604bd-2443-46c4-8a8f-0f44409e0ee7",
   "metadata": {},
   "outputs": [
    {
     "name": "stdout",
     "output_type": "stream",
     "text": [
      "[24, [12, 'apple', 12.5]]\n",
      "apple\n"
     ]
    }
   ],
   "source": [
    "list_inside_list = [24, [12, \"apple\", 12.5]]\n",
    "print(list_inside_list)\n",
    "print(list_inside_list[1][1])"
   ]
  },
  {
   "cell_type": "markdown",
   "id": "7a80e101-1c31-4b81-b1a7-8b69a40858ef",
   "metadata": {},
   "source": [
    "### LIST COMPREHENSION"
   ]
  },
  {
   "cell_type": "code",
   "execution_count": 20,
   "id": "e534fbc0-874c-49d1-8546-cc6c3fe08684",
   "metadata": {},
   "outputs": [
    {
     "name": "stdout",
     "output_type": "stream",
     "text": [
      "[2, 4, 6, 8, 10, 12, 14, 16, 18, 20, 22, 24, 26, 28, 30, 32, 34, 36, 38, 40, 42, 44, 46, 48, 50, 52, 54, 56, 58, 60, 62, 64, 66, 68, 70, 72, 74, 76, 78, 80, 82, 84, 86, 88, 90, 92, 94, 96, 98, 100]\n"
     ]
    }
   ],
   "source": [
    "list_comprehension = [x for x in range(1, 101) if x%2==0]\n",
    "print(list_comprehension)"
   ]
  },
  {
   "cell_type": "code",
   "execution_count": 22,
   "id": "de3c580d-a92d-4954-adab-8988bbd9dbec",
   "metadata": {},
   "outputs": [
    {
     "name": "stdout",
     "output_type": "stream",
     "text": [
      "['Apple', 'Orange', 'Lichi']\n"
     ]
    }
   ],
   "source": [
    "fruits = ['apple', 'orange', 'lichi']\n",
    "fruits_comprehension = [fruit.capitalize() for fruit in fruits]\n",
    "print(fruits_comprehension)"
   ]
  },
  {
   "cell_type": "code",
   "execution_count": 27,
   "id": "caf393d5-b1e4-4ab2-bcef-da247455fe46",
   "metadata": {},
   "outputs": [
    {
     "name": "stdout",
     "output_type": "stream",
     "text": [
      "['d', 'b']\n"
     ]
    }
   ],
   "source": [
    "letters = ['a', 'b', 'c', 'd', 'e']\n",
    "print(letters[1:4][::-2])"
   ]
  },
  {
   "cell_type": "code",
   "execution_count": null,
   "id": "6583b088-ebc5-4715-96f2-bcc6e37fb432",
   "metadata": {},
   "outputs": [],
   "source": [
    "nums = [1, 2, 3, 4]\n",
    "squares = [x**2 for x in nums if x%2==0]\n",
    "pr"
   ]
  }
 ],
 "metadata": {
  "kernelspec": {
   "display_name": "Python [conda env:base] *",
   "language": "python",
   "name": "conda-base-py"
  },
  "language_info": {
   "codemirror_mode": {
    "name": "ipython",
    "version": 3
   },
   "file_extension": ".py",
   "mimetype": "text/x-python",
   "name": "python",
   "nbconvert_exporter": "python",
   "pygments_lexer": "ipython3",
   "version": "3.13.5"
  }
 },
 "nbformat": 4,
 "nbformat_minor": 5
}
