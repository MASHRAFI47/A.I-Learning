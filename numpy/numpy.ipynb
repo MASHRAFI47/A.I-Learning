{
 "cells": [
  {
   "cell_type": "markdown",
   "id": "d00d2cda-ae74-4a91-b878-90673b4ea7d1",
   "metadata": {},
   "source": [
    "### NUMPY"
   ]
  },
  {
   "cell_type": "code",
   "execution_count": 1,
   "id": "691daaf8-3666-488e-b182-ae3d4ad4e775",
   "metadata": {},
   "outputs": [
    {
     "name": "stdout",
     "output_type": "stream",
     "text": [
      "[1, 2, 3, 1, 2, 3, 1, 2, 3, 1, 2, 3, 1, 2, 3]\n",
      "[5, 10, 15]\n"
     ]
    }
   ],
   "source": [
    "arr = [1, 2, 3]\n",
    "\n",
    "print(arr*5)\n",
    "\n",
    "arr = [x*5 for x in arr]\n",
    "print(arr)"
   ]
  },
  {
   "cell_type": "code",
   "execution_count": 1,
   "id": "1e1ade83-b717-459f-8359-662c48493cfd",
   "metadata": {},
   "outputs": [
    {
     "name": "stdout",
     "output_type": "stream",
     "text": [
      "[ 5 10 15]\n"
     ]
    }
   ],
   "source": [
    "import numpy as np\n",
    "\n",
    "arr1 = np.array([1, 2, 3])\n",
    "\n",
    "print(arr1*5)"
   ]
  },
  {
   "cell_type": "markdown",
   "id": "3182f7c6-4fe8-4327-bb42-dd6c252d60fc",
   "metadata": {},
   "source": [
    "### Ndarray"
   ]
  },
  {
   "cell_type": "code",
   "execution_count": 10,
   "id": "0e4199f7-5284-43d2-9714-abcb2c963a16",
   "metadata": {},
   "outputs": [
    {
     "name": "stdout",
     "output_type": "stream",
     "text": [
      "<class 'numpy.ndarray'>\n",
      "[1 2 3 4 5]\n",
      "1\n",
      "[[1 2 3]\n",
      " [4 5 6]\n",
      " [7 8 9]]\n",
      "2\n",
      "[[[ 1  2  3]\n",
      "  [ 4  5  6]]\n",
      "\n",
      " [[ 7  8  9]\n",
      "  [10 11 12]]]\n",
      "3\n"
     ]
    }
   ],
   "source": [
    "import numpy as np\n",
    "\n",
    "#1d array\n",
    "arr1 = np.array([1, 2, 3, 4, 5])\n",
    "\n",
    "print(type(arr1))\n",
    "print(arr1)\n",
    "\n",
    "print(arr1.ndim) #returns dimension of the array\n",
    "\n",
    "\n",
    "#2d array\n",
    "arr2 = np.array([[1, 2, 3], [4, 5, 6], [7, 8, 9]])\n",
    "print(arr2)\n",
    "print(arr2.ndim)\n",
    "\n",
    "\n",
    "#3d array\n",
    "arr3 = np.array([\n",
    "    [\n",
    "        [1, 2, 3],\n",
    "        [4, 5, 6]\n",
    "    ],\n",
    "    [\n",
    "        [7, 8, 9],\n",
    "        [10, 11, 12]\n",
    "    ]\n",
    "])\n",
    "\n",
    "print(arr3)\n",
    "print(arr3.ndim)"
   ]
  },
  {
   "cell_type": "markdown",
   "id": "e79d0580-54fa-4b2e-950d-1463aaa17ce3",
   "metadata": {},
   "source": [
    " ### Array Attributes"
   ]
  },
  {
   "cell_type": "code",
   "execution_count": 13,
   "id": "d76e3894-7097-4814-a390-d616c8949688",
   "metadata": {},
   "outputs": [
    {
     "name": "stdout",
     "output_type": "stream",
     "text": [
      "Array Dimension 1\n",
      "Array Dimension 2\n",
      "Array Dimension 3\n",
      "Array shape (3,)\n",
      "Array shape (3, 3)\n",
      "Array shape (2, 2, 3)\n",
      "Array data type int64\n",
      "Array data type int64\n",
      "Array data type int64\n",
      "Array size 3\n",
      "Array size 9\n",
      "Array size 12\n"
     ]
    }
   ],
   "source": [
    "arr1 = np.array([1, 2, 3])\n",
    "\n",
    "arr2 = np.array([[1, 2, 3], [4, 5, 6], [7, 8, 9]])\n",
    "\n",
    "arr3 = np.array([\n",
    "    #1st floor\n",
    "    [\n",
    "        [1, 2, 3],\n",
    "        [4, 5, 6]\n",
    "    ],\n",
    "    #2nd floor\n",
    "    [\n",
    "        [7, 8, 9],\n",
    "        [10, 11, 12]\n",
    "    ]\n",
    "])\n",
    "\n",
    "#dimension\n",
    "print(\"Array Dimension\", arr1.ndim)\n",
    "print(\"Array Dimension\", arr2.ndim)\n",
    "print(\"Array Dimension\", arr3.ndim)\n",
    "\n",
    "#shape\n",
    "print(\"Array shape\", arr1.shape)\n",
    "print(\"Array shape\", arr2.shape)\n",
    "print(\"Array shape\", arr3.shape)\n",
    "\n",
    "#data type\n",
    "print(\"Array data type\", arr1.dtype)\n",
    "print(\"Array data type\", arr2.dtype)\n",
    "print(\"Array data type\", arr3.dtype)\n",
    "\n",
    "#size\n",
    "print(\"Array size\", arr1.size)\n",
    "print(\"Array size\", arr2.size)\n",
    "print(\"Array size\", arr3.size)"
   ]
  },
  {
   "cell_type": "code",
   "execution_count": 3,
   "id": "577db1bd-cd0b-49d7-9677-d937db30db40",
   "metadata": {},
   "outputs": [
    {
     "name": "stdout",
     "output_type": "stream",
     "text": [
      "float64\n"
     ]
    }
   ],
   "source": [
    "arr4 = np.array([1.2, 1.4, 2.6])\n",
    "print(arr4.dtype)"
   ]
  },
  {
   "cell_type": "code",
   "execution_count": 15,
   "id": "5d6e3d45-2757-4a73-bf4b-b63c181c133f",
   "metadata": {},
   "outputs": [
    {
     "name": "stdout",
     "output_type": "stream",
     "text": [
      "float64\n",
      "<U32\n",
      "<U32\n",
      "['1' '2' '3.2' 'hello']\n"
     ]
    }
   ],
   "source": [
    "# upcasting\n",
    "arr5 = np.array([1, 2, 3.2])\n",
    "print(arr5.dtype)\n",
    "\n",
    "arr6 = np.array([1, 2, 3.2, \"2\"])\n",
    "print(arr6.dtype) # string upcasting\n",
    "\n",
    "arr7 = np.array([1, 2, 3.2, \"hello\"])\n",
    "print(arr7.dtype) # string upcasting\n",
    "print(arr7)"
   ]
  },
  {
   "cell_type": "markdown",
   "id": "f09fbfc8-2893-4ed9-b248-ad91f2772745",
   "metadata": {},
   "source": [
    "### Selecting a data type for an array"
   ]
  },
  {
   "cell_type": "code",
   "execution_count": 9,
   "id": "96b1a2ac-80d6-4e37-acc0-bc1bea56c3b2",
   "metadata": {},
   "outputs": [
    {
     "name": "stdout",
     "output_type": "stream",
     "text": [
      "int8\n"
     ]
    }
   ],
   "source": [
    "arr8 = np.array([1, 2, 3], dtype=np.int8)\n",
    "print(arr8.dtype)"
   ]
  },
  {
   "cell_type": "code",
   "execution_count": 11,
   "id": "bb1c171b-dee6-4bd4-89f3-00d0c4bbd5db",
   "metadata": {},
   "outputs": [
    {
     "ename": "ValueError",
     "evalue": "could not convert string to float: 'hello'",
     "output_type": "error",
     "traceback": [
      "\u001b[1;31m---------------------------------------------------------------------------\u001b[0m",
      "\u001b[1;31mValueError\u001b[0m                                Traceback (most recent call last)",
      "Cell \u001b[1;32mIn[11], line 1\u001b[0m\n\u001b[1;32m----> 1\u001b[0m arr \u001b[38;5;241m=\u001b[39m np\u001b[38;5;241m.\u001b[39marray([\u001b[38;5;241m1\u001b[39m, \u001b[38;5;241m2\u001b[39m, \u001b[38;5;241m3.2\u001b[39m, \u001b[38;5;124m\"\u001b[39m\u001b[38;5;124mhello\u001b[39m\u001b[38;5;124m\"\u001b[39m], dtype\u001b[38;5;241m=\u001b[39mnp\u001b[38;5;241m.\u001b[39mfloat64)\n\u001b[0;32m      2\u001b[0m \u001b[38;5;28mprint\u001b[39m(arr\u001b[38;5;241m.\u001b[39mdtype)\n\u001b[0;32m      3\u001b[0m \u001b[38;5;28mprint\u001b[39m(arr)\n",
      "\u001b[1;31mValueError\u001b[0m: could not convert string to float: 'hello'"
     ]
    }
   ],
   "source": [
    "arr = np.array([1, 2, 3.2, \"hello\"], dtype=np.float64)\n",
    "print(arr.dtype)\n",
    "print(arr)"
   ]
  },
  {
   "cell_type": "code",
   "execution_count": 12,
   "id": "134a5d91-cc40-477b-9a89-558ca37d9bd4",
   "metadata": {},
   "outputs": [
    {
     "name": "stdout",
     "output_type": "stream",
     "text": [
      "int16\n"
     ]
    }
   ],
   "source": [
    "arr = np.array([1, 2, 3])\n",
    "arr = arr.astype(np.int16)\n",
    "print(arr.dtype)"
   ]
  },
  {
   "cell_type": "code",
   "execution_count": 16,
   "id": "f721104b-8eaa-416a-9edf-b68d70a296ce",
   "metadata": {},
   "outputs": [
    {
     "name": "stdout",
     "output_type": "stream",
     "text": [
      "[10 20 30 40 40]\n",
      "<class 'numpy.ndarray'>\n",
      "int32\n"
     ]
    }
   ],
   "source": [
    "lst = [10, 20, 30, 40, 40.5]\n",
    "\n",
    "arr = np.array(lst, dtype=np.int32)\n",
    "print(arr)\n",
    "print(type(arr))\n",
    "print(arr.dtype)"
   ]
  },
  {
   "cell_type": "code",
   "execution_count": 17,
   "id": "391ab283-67e1-4d8c-a993-90c7c7281784",
   "metadata": {},
   "outputs": [
    {
     "name": "stdout",
     "output_type": "stream",
     "text": [
      "[10.  20.  30.  40.  40.5]\n",
      "<class 'numpy.ndarray'>\n",
      "float64\n"
     ]
    }
   ],
   "source": [
    "lst = [10, 20, 30, 40, 40.5]\n",
    "\n",
    "arr = np.array(lst)\n",
    "print(arr)\n",
    "print(type(arr))\n",
    "print(arr.dtype)"
   ]
  },
  {
   "cell_type": "code",
   "execution_count": 18,
   "id": "e668fefe-f317-4404-ad3e-9d3cfbc5a99b",
   "metadata": {},
   "outputs": [
    {
     "name": "stdout",
     "output_type": "stream",
     "text": [
      "['10' 'True' 'Hello' '10.5']\n",
      "<class 'numpy.ndarray'>\n",
      "<U32\n"
     ]
    }
   ],
   "source": [
    "mixed_lst = [10, True, \"Hello\", 10.5]\n",
    "\n",
    "arr = np.array(mixed_lst)\n",
    "\n",
    "print(arr)\n",
    "print(type(arr))\n",
    "print(arr.dtype)"
   ]
  },
  {
   "cell_type": "code",
   "execution_count": 19,
   "id": "9f2b10cc-78ce-464d-80d0-e13df918752a",
   "metadata": {},
   "outputs": [
    {
     "ename": "ValueError",
     "evalue": "setting an array element with a sequence. The requested array has an inhomogeneous shape after 1 dimensions. The detected shape was (5,) + inhomogeneous part.",
     "output_type": "error",
     "traceback": [
      "\u001b[1;31m---------------------------------------------------------------------------\u001b[0m",
      "\u001b[1;31mValueError\u001b[0m                                Traceback (most recent call last)",
      "Cell \u001b[1;32mIn[19], line 3\u001b[0m\n\u001b[0;32m      1\u001b[0m mixed_lst \u001b[38;5;241m=\u001b[39m [\u001b[38;5;241m10\u001b[39m, \u001b[38;5;28;01mTrue\u001b[39;00m, \u001b[38;5;124m\"\u001b[39m\u001b[38;5;124mHello\u001b[39m\u001b[38;5;124m\"\u001b[39m, \u001b[38;5;241m10.5\u001b[39m, [\u001b[38;5;241m1\u001b[39m, \u001b[38;5;241m5\u001b[39m, \u001b[38;5;241m2\u001b[39m]] \u001b[38;5;66;03m# cannot provide another list inside list\u001b[39;00m\n\u001b[1;32m----> 3\u001b[0m arr \u001b[38;5;241m=\u001b[39m np\u001b[38;5;241m.\u001b[39marray(mixed_lst)\n\u001b[0;32m      5\u001b[0m \u001b[38;5;28mprint\u001b[39m(arr)\n\u001b[0;32m      6\u001b[0m \u001b[38;5;28mprint\u001b[39m(\u001b[38;5;28mtype\u001b[39m(arr))\n",
      "\u001b[1;31mValueError\u001b[0m: setting an array element with a sequence. The requested array has an inhomogeneous shape after 1 dimensions. The detected shape was (5,) + inhomogeneous part."
     ]
    }
   ],
   "source": [
    "mixed_lst = [10, True, \"Hello\", 10.5, [1, 5, 2]] # cannot provide another list inside list\n",
    "\n",
    "arr = np.array(mixed_lst)\n",
    "\n",
    "print(arr)\n",
    "print(type(arr))\n",
    "print(arr.dtype)"
   ]
  },
  {
   "cell_type": "code",
   "execution_count": 21,
   "id": "8f397386-d711-42c0-9752-cd5906a73ab6",
   "metadata": {},
   "outputs": [
    {
     "name": "stdout",
     "output_type": "stream",
     "text": [
      "[[1 2 3]\n",
      " [4 5 6]\n",
      " [7 8 9]]\n",
      "<class 'numpy.ndarray'>\n",
      "int64\n",
      "(3, 3)\n",
      "2\n"
     ]
    }
   ],
   "source": [
    "matrix = [\n",
    "    [1, 2, 3], \n",
    "    [4, 5, 6], \n",
    "    [7, 8, 9]\n",
    "]\n",
    "\n",
    "arr = np.array(matrix)\n",
    "\n",
    "print(arr)\n",
    "print(type(arr))\n",
    "print(arr.dtype)\n",
    "print(arr.shape)\n",
    "print(arr.ndim)"
   ]
  },
  {
   "cell_type": "code",
   "execution_count": 22,
   "id": "8f585e72-85de-4212-b607-5a282ff9ad28",
   "metadata": {},
   "outputs": [
    {
     "name": "stdout",
     "output_type": "stream",
     "text": [
      "[10 20 30]\n",
      "<class 'numpy.ndarray'>\n",
      "int64\n",
      "(3,)\n",
      "1\n"
     ]
    }
   ],
   "source": [
    "#tuple\n",
    "\n",
    "tpl = (10, 20, 30)\n",
    "\n",
    "arr = np.array(tpl)\n",
    "\n",
    "print(arr)\n",
    "print(type(arr))\n",
    "print(arr.dtype)\n",
    "print(arr.shape)\n",
    "print(arr.ndim)"
   ]
  },
  {
   "cell_type": "code",
   "execution_count": 23,
   "id": "bdf0dbeb-f1f7-409b-89f4-1a1333a95e15",
   "metadata": {},
   "outputs": [
    {
     "name": "stdout",
     "output_type": "stream",
     "text": [
      "{1, 2, 3}\n",
      "<class 'numpy.ndarray'>\n",
      "object\n",
      "()\n",
      "0\n"
     ]
    }
   ],
   "source": [
    "st = {1, 2, 3} \n",
    "\n",
    "arr = np.array(st)\n",
    "\n",
    "print(arr)\n",
    "print(type(arr))\n",
    "print(arr.dtype)\n",
    "print(arr.shape)\n",
    "print(arr.ndim)"
   ]
  },
  {
   "cell_type": "code",
   "execution_count": 27,
   "id": "4bf3d897-58d3-4f5f-9b99-3e3f873e39a6",
   "metadata": {},
   "outputs": [
    {
     "name": "stdout",
     "output_type": "stream",
     "text": [
      "[1 2 3]\n",
      "<class 'numpy.ndarray'>\n",
      "int64\n",
      "(3,)\n",
      "1\n"
     ]
    }
   ],
   "source": [
    "st = {1, 2, 3} \n",
    "\n",
    "arr = np.array(list(st))\n",
    "\n",
    "print(arr)\n",
    "print(type(arr))\n",
    "print(arr.dtype)\n",
    "print(arr.shape)\n",
    "print(arr.ndim)"
   ]
  },
  {
   "cell_type": "code",
   "execution_count": 30,
   "id": "82ca44ea-c318-4278-849a-62e9c2fa4044",
   "metadata": {},
   "outputs": [
    {
     "name": "stdout",
     "output_type": "stream",
     "text": [
      "['a' 'b' 'c']\n",
      "<class 'numpy.ndarray'>\n",
      "<U1\n",
      "(3,)\n",
      "1\n"
     ]
    }
   ],
   "source": [
    "# dictionary\n",
    "\n",
    "dc = {'a' : 10, 'b' : 20, 'c' : 30}\n",
    "\n",
    "keys = dc.keys()\n",
    "\n",
    "#keys to ndarray\n",
    "arr = np.array(list(keys))\n",
    "print(arr)\n",
    "print(type(arr))\n",
    "print(arr.dtype)\n",
    "print(arr.shape)\n",
    "print(arr.ndim)"
   ]
  },
  {
   "cell_type": "code",
   "execution_count": 33,
   "id": "d8adb07e-0b3e-4915-8f40-797e54447f1c",
   "metadata": {},
   "outputs": [
    {
     "name": "stdout",
     "output_type": "stream",
     "text": [
      "[10. 20. 30.]\n",
      "<class 'numpy.ndarray'>\n",
      "float64\n",
      "(3,)\n",
      "1\n"
     ]
    }
   ],
   "source": [
    "dc = {'a' : 10, 'b' : 20, 'c' : 30}\n",
    "\n",
    "values = dc.values()\n",
    "\n",
    "#keys to ndarray\n",
    "arr = np.array(list(values), dtype=np.float64)\n",
    "print(arr)\n",
    "print(type(arr))\n",
    "print(arr.dtype)\n",
    "print(arr.shape)\n",
    "print(arr.ndim)"
   ]
  },
  {
   "cell_type": "code",
   "execution_count": 35,
   "id": "2b3cb98b-659a-43e0-b5ed-2a7ff6adaff6",
   "metadata": {},
   "outputs": [
    {
     "name": "stdout",
     "output_type": "stream",
     "text": [
      "[['a' '10']\n",
      " ['b' '20']\n",
      " ['c' '30']]\n",
      "<class 'numpy.ndarray'>\n",
      "<U21\n",
      "(3, 2)\n",
      "2\n"
     ]
    }
   ],
   "source": [
    "dc = {'a' : 10, 'b' : 20, 'c' : 30}\n",
    "\n",
    "items = dc.items()\n",
    "\n",
    "#keys to ndarray\n",
    "arr = np.array(list(items))\n",
    "print(arr)\n",
    "print(type(arr))\n",
    "print(arr.dtype)\n",
    "print(arr.shape)\n",
    "print(arr.ndim)"
   ]
  },
  {
   "cell_type": "markdown",
   "id": "9aeb1274-33b2-439c-ad1a-5d73f8014a30",
   "metadata": {},
   "source": [
    "### Ndarray creation from scratch"
   ]
  },
  {
   "cell_type": "code",
   "execution_count": 16,
   "id": "4ef44e37-deaa-4e61-be2c-5fee56fa746f",
   "metadata": {},
   "outputs": [
    {
     "name": "stdout",
     "output_type": "stream",
     "text": [
      "[[0. 0. 0.]\n",
      " [0. 0. 0.]]\n",
      "<class 'numpy.ndarray'>\n",
      "float64\n",
      "(2, 3)\n",
      "2\n",
      "6\n"
     ]
    }
   ],
   "source": [
    "# np.zeros()\n",
    "\n",
    "import numpy as np\n",
    "\n",
    "arr = np.zeros((2, 3))  # row count, col count\n",
    "print(arr)\n",
    "print(type(arr))\n",
    "print(arr.dtype)\n",
    "print(arr.shape)\n",
    "print(arr.ndim)\n",
    "print(arr.size)\n"
   ]
  },
  {
   "cell_type": "code",
   "execution_count": 15,
   "id": "f7067d64-ec3e-4d39-8c9b-ad30d3e260ee",
   "metadata": {},
   "outputs": [
    {
     "name": "stdout",
     "output_type": "stream",
     "text": [
      "[[0 0 0]\n",
      " [0 0 0]]\n",
      "<class 'numpy.ndarray'>\n",
      "int8\n",
      "(2, 3)\n",
      "2\n",
      "6\n"
     ]
    }
   ],
   "source": [
    "arr = np.zeros((2, 3), dtype=np.int8)  # row count, col count\n",
    "print(arr)\n",
    "print(type(arr))\n",
    "print(arr.dtype)\n",
    "print(arr.shape)\n",
    "print(arr.ndim)\n",
    "print(arr.size)"
   ]
  },
  {
   "cell_type": "code",
   "execution_count": 14,
   "id": "55e5710e-c97e-465a-ad06-7a0cb26271d3",
   "metadata": {},
   "outputs": [
    {
     "name": "stdout",
     "output_type": "stream",
     "text": [
      "[[0 0 0]\n",
      " [0 0 0]]\n",
      "<class 'numpy.ndarray'>\n",
      "int8\n",
      "(2, 3)\n",
      "2\n",
      "6\n"
     ]
    }
   ],
   "source": [
    "arr = np.zeros((2, 3), dtype=np.int8)  # row count, col count\n",
    "\n",
    "print(arr)\n",
    "print(type(arr))\n",
    "print(arr.dtype)\n",
    "print(arr.shape)\n",
    "print(arr.ndim)\n",
    "print(arr.size)"
   ]
  },
  {
   "cell_type": "code",
   "execution_count": 13,
   "id": "374cafc8-85e4-4106-b2c6-a45b9aa7fdd1",
   "metadata": {},
   "outputs": [
    {
     "name": "stdout",
     "output_type": "stream",
     "text": [
      "[[[0 0 0]\n",
      "  [0 0 0]]\n",
      "\n",
      " [[0 0 0]\n",
      "  [0 0 0]]]\n",
      "<class 'numpy.ndarray'>\n",
      "int64\n",
      "(2, 2, 3)\n",
      "3\n",
      "12\n"
     ]
    }
   ],
   "source": [
    "# np.zeros_like()\n",
    "\n",
    "arr3 = np.array([\n",
    "    [\n",
    "        [1, 2, 3],\n",
    "        [4, 5, 6]\n",
    "    ],\n",
    "    [\n",
    "        [7, 8, 9],\n",
    "        [10, 11, 12]\n",
    "    ]\n",
    "])\n",
    "\n",
    "arr = np.zeros_like(arr3)\n",
    "print(arr)\n",
    "print(type(arr))\n",
    "print(arr.dtype)\n",
    "print(arr.shape)\n",
    "print(arr.ndim)\n",
    "print(arr.size)"
   ]
  },
  {
   "cell_type": "code",
   "execution_count": 11,
   "id": "b05ead1d-62e5-45a0-bd03-a460b7b94044",
   "metadata": {},
   "outputs": [
    {
     "name": "stdout",
     "output_type": "stream",
     "text": [
      "[[1. 1. 1. 1.]\n",
      " [1. 1. 1. 1.]]\n",
      "<class 'numpy.ndarray'>\n",
      "float64\n",
      "(2, 4)\n",
      "2\n",
      "8\n"
     ]
    }
   ],
   "source": [
    "# np.ones()\n",
    "\n",
    "arr = np.ones((2, 4)) # row count, col count\n",
    "print(arr)\n",
    "print(type(arr))\n",
    "print(arr.dtype)\n",
    "print(arr.shape)\n",
    "print(arr.ndim)\n",
    "print(arr.size)"
   ]
  },
  {
   "cell_type": "code",
   "execution_count": 17,
   "id": "eeca6da2-7d3d-40d6-82a9-35b1b01282bf",
   "metadata": {},
   "outputs": [
    {
     "name": "stdout",
     "output_type": "stream",
     "text": [
      "[[[1. 1. 1. 1.]\n",
      "  [1. 1. 1. 1.]]\n",
      "\n",
      " [[1. 1. 1. 1.]\n",
      "  [1. 1. 1. 1.]]\n",
      "\n",
      " [[1. 1. 1. 1.]\n",
      "  [1. 1. 1. 1.]]]\n",
      "<class 'numpy.ndarray'>\n",
      "float64\n",
      "(3, 2, 4)\n",
      "3\n",
      "24\n"
     ]
    }
   ],
   "source": [
    "arr = np.ones((3, 2, 4)) # floor count, row count, col count\n",
    "print(arr)\n",
    "print(type(arr))\n",
    "print(arr.dtype)\n",
    "print(arr.shape)\n",
    "print(arr.ndim)\n",
    "print(arr.size)"
   ]
  },
  {
   "cell_type": "code",
   "execution_count": 18,
   "id": "311a4c3d-32de-4524-b666-3429d2b394d7",
   "metadata": {},
   "outputs": [
    {
     "name": "stdout",
     "output_type": "stream",
     "text": [
      "[[[1 1 1]\n",
      "  [1 1 1]]\n",
      "\n",
      " [[1 1 1]\n",
      "  [1 1 1]]]\n",
      "<class 'numpy.ndarray'>\n",
      "int64\n",
      "(2, 2, 3)\n",
      "3\n",
      "12\n"
     ]
    }
   ],
   "source": [
    "# np.ones_like()\n",
    "\n",
    "arr3 = np.array([\n",
    "    [\n",
    "        [1, 2, 3],\n",
    "        [4, 5, 6]\n",
    "    ],\n",
    "    [\n",
    "        [7, 8, 9],\n",
    "        [10, 11, 12]\n",
    "    ]\n",
    "])\n",
    "\n",
    "arr = np.ones_like(arr3)\n",
    "print(arr)\n",
    "print(type(arr))\n",
    "print(arr.dtype)\n",
    "print(arr.shape)\n",
    "print(arr.ndim)\n",
    "print(arr.size)"
   ]
  },
  {
   "cell_type": "code",
   "execution_count": 24,
   "id": "7d785a38-de89-4cf5-b191-ad79852b1335",
   "metadata": {},
   "outputs": [
    {
     "name": "stdout",
     "output_type": "stream",
     "text": [
      "[[0. 0. 0.]\n",
      " [0. 0. 0.]\n",
      " [0. 0. 0.]\n",
      " [0. 0. 0.]]\n",
      "<class 'numpy.ndarray'>\n",
      "float64\n",
      "(4, 3)\n",
      "2\n",
      "12\n"
     ]
    }
   ],
   "source": [
    "# np.empty()\n",
    "\n",
    "arr = np.empty((4, 3))\n",
    "print(arr)\n",
    "print(type(arr))\n",
    "print(arr.dtype)\n",
    "print(arr.shape)\n",
    "print(arr.ndim)\n",
    "print(arr.size)"
   ]
  },
  {
   "cell_type": "code",
   "execution_count": 26,
   "id": "019b186a-daf8-4936-9412-43d06bbac5a9",
   "metadata": {},
   "outputs": [
    {
     "name": "stdout",
     "output_type": "stream",
     "text": [
      "[[[ 1  2  3]\n",
      "  [ 4  5  6]]\n",
      "\n",
      " [[ 7  8  9]\n",
      "  [10 11 12]]]\n",
      "<class 'numpy.ndarray'>\n",
      "int64\n",
      "(2, 2, 3)\n",
      "3\n",
      "12\n"
     ]
    }
   ],
   "source": [
    "# np.empty_like()\n",
    "\n",
    "arr3 = np.array([\n",
    "    [\n",
    "        [1, 2, 3],\n",
    "        [4, 5, 6]\n",
    "    ],\n",
    "    [\n",
    "        [7, 8, 9],\n",
    "        [10, 11, 12]\n",
    "    ]\n",
    "])\n",
    "\n",
    "arr = np.empty_like(arr3)\n",
    "print(arr)\n",
    "print(type(arr))\n",
    "print(arr.dtype)\n",
    "print(arr.shape)\n",
    "print(arr.ndim)\n",
    "print(arr.size)"
   ]
  },
  {
   "cell_type": "code",
   "execution_count": 27,
   "id": "d2957cea-a1d2-4170-8a7f-3b81b299a0ec",
   "metadata": {},
   "outputs": [
    {
     "name": "stdout",
     "output_type": "stream",
     "text": [
      "[[10 10 10]\n",
      " [10 10 10]\n",
      " [10 10 10]\n",
      " [10 10 10]]\n",
      "<class 'numpy.ndarray'>\n",
      "int64\n",
      "(4, 3)\n",
      "2\n",
      "12\n"
     ]
    }
   ],
   "source": [
    "# np.full()\n",
    "\n",
    "arr = np.full((4, 3), 10)\n",
    "print(arr)\n",
    "print(type(arr))\n",
    "print(arr.dtype)\n",
    "print(arr.shape)\n",
    "print(arr.ndim)\n",
    "print(arr.size)"
   ]
  },
  {
   "cell_type": "code",
   "execution_count": 31,
   "id": "bf5f7aa5-10d8-4581-90ba-2bcfb5428b2f",
   "metadata": {},
   "outputs": [
    {
     "name": "stdout",
     "output_type": "stream",
     "text": [
      "[[ True  True  True]\n",
      " [ True  True  True]\n",
      " [ True  True  True]\n",
      " [ True  True  True]]\n",
      "<class 'numpy.ndarray'>\n",
      "bool\n",
      "(4, 3)\n",
      "2\n",
      "12\n"
     ]
    }
   ],
   "source": [
    "arr = np.full((4, 3), True)\n",
    "print(arr)\n",
    "print(type(arr))\n",
    "print(arr.dtype)\n",
    "print(arr.shape)\n",
    "print(arr.ndim)\n",
    "print(arr.size)"
   ]
  },
  {
   "cell_type": "code",
   "execution_count": 32,
   "id": "3af4370a-ed97-492d-a297-b5f6b7e6fd35",
   "metadata": {},
   "outputs": [
    {
     "name": "stdout",
     "output_type": "stream",
     "text": [
      "[[inf inf inf]\n",
      " [inf inf inf]\n",
      " [inf inf inf]\n",
      " [inf inf inf]]\n",
      "<class 'numpy.ndarray'>\n",
      "float64\n",
      "(4, 3)\n",
      "2\n",
      "12\n"
     ]
    }
   ],
   "source": [
    "arr = np.full((4, 3), np.inf)\n",
    "print(arr)\n",
    "print(type(arr))\n",
    "print(arr.dtype)\n",
    "print(arr.shape)\n",
    "print(arr.ndim)\n",
    "print(arr.size)"
   ]
  },
  {
   "cell_type": "code",
   "execution_count": 35,
   "id": "2217344d-5373-4e3f-b51f-15fb06407e24",
   "metadata": {},
   "outputs": [
    {
     "name": "stdout",
     "output_type": "stream",
     "text": [
      "[[[10 10 10]\n",
      "  [10 10 10]]\n",
      "\n",
      " [[10 10 10]\n",
      "  [10 10 10]]]\n",
      "<class 'numpy.ndarray'>\n",
      "int64\n",
      "(2, 2, 3)\n",
      "3\n",
      "12\n"
     ]
    }
   ],
   "source": [
    "# np.full_like()\n",
    "\n",
    "arr3 = np.array([\n",
    "    [\n",
    "        [1, 2, 3],\n",
    "        [4, 5, 6]\n",
    "    ],\n",
    "    [\n",
    "        [7, 8, 9],\n",
    "        [10, 11, 12]\n",
    "    ]\n",
    "])\n",
    "\n",
    "arr = np.full_like(arr3, 10)\n",
    "print(arr)\n",
    "print(type(arr))\n",
    "print(arr.dtype)\n",
    "print(arr.shape)\n",
    "print(arr.ndim)\n",
    "print(arr.size)"
   ]
  },
  {
   "cell_type": "code",
   "execution_count": 36,
   "id": "7d607303-4adf-485a-a0a6-19e5810794ab",
   "metadata": {},
   "outputs": [
    {
     "name": "stdout",
     "output_type": "stream",
     "text": [
      "[[[inf inf inf]\n",
      "  [inf inf inf]]\n",
      "\n",
      " [[inf inf inf]\n",
      "  [inf inf inf]]]\n",
      "<class 'numpy.ndarray'>\n",
      "float64\n",
      "(2, 2, 3)\n",
      "3\n",
      "12\n"
     ]
    }
   ],
   "source": [
    "\n",
    "arr3 = np.array([\n",
    "    [\n",
    "        [1, 2, 3],\n",
    "        [4, 5, 6]\n",
    "    ],\n",
    "    [\n",
    "        [7, 8, 9],\n",
    "        [10, 11, 12]\n",
    "    ]\n",
    "])\n",
    "\n",
    "arr = np.full_like(arr3, np.inf, dtype=np.float64)\n",
    "print(arr)\n",
    "print(type(arr))\n",
    "print(arr.dtype)\n",
    "print(arr.shape)\n",
    "print(arr.ndim)\n",
    "print(arr.size)"
   ]
  },
  {
   "cell_type": "markdown",
   "id": "ba72fa64-9005-4bb0-8ec5-e47c80903df5",
   "metadata": {},
   "source": [
    "### Array Creation With Random Values"
   ]
  },
  {
   "cell_type": "code",
   "execution_count": 39,
   "id": "84414534-8105-42e4-be33-32c65429700e",
   "metadata": {},
   "outputs": [
    {
     "name": "stdout",
     "output_type": "stream",
     "text": [
      "[[0.5259446  0.3225481  0.37237641]\n",
      " [0.30478166 0.88592479 0.1383699 ]]\n",
      "<class 'numpy.ndarray'>\n",
      "float64\n",
      "(2, 3)\n",
      "2\n",
      "6\n"
     ]
    }
   ],
   "source": [
    "# np.random.rand(shape)\n",
    "\n",
    "arr = np.random.rand(2,3)  # 0 to 1 random values\n",
    "\n",
    "print(arr)\n",
    "print(type(arr))\n",
    "print(arr.dtype)\n",
    "print(arr.shape)\n",
    "print(arr.ndim)\n",
    "print(arr.size)"
   ]
  },
  {
   "cell_type": "code",
   "execution_count": 45,
   "id": "6f69961d-85d7-40c8-a182-0e8f0a949e76",
   "metadata": {},
   "outputs": [
    {
     "name": "stdout",
     "output_type": "stream",
     "text": [
      "[[9 4 4]\n",
      " [8 6 3]]\n",
      "<class 'numpy.ndarray'>\n",
      "int32\n",
      "(2, 3)\n",
      "2\n",
      "6\n"
     ]
    }
   ],
   "source": [
    "# np.random.randint(starting point, end point, shape)\n",
    "\n",
    "arr = np.random.randint(1, 10, (2,3))  # 0 to 1 random values\n",
    "\n",
    "print(arr)\n",
    "print(type(arr))\n",
    "print(arr.dtype)\n",
    "print(arr.shape)\n",
    "print(arr.ndim)\n",
    "print(arr.size)"
   ]
  },
  {
   "cell_type": "code",
   "execution_count": 44,
   "id": "cc6440db-ef65-4b64-81a6-0365d85fa472",
   "metadata": {},
   "outputs": [
    {
     "name": "stdout",
     "output_type": "stream",
     "text": [
      "[5 9]\n",
      "<class 'numpy.ndarray'>\n",
      "int32\n",
      "(2,)\n",
      "1\n",
      "2\n"
     ]
    }
   ],
   "source": [
    "\n",
    "arr = np.random.randint(1, 10, (2,))  # 1d array\n",
    "\n",
    "print(arr)\n",
    "print(type(arr))\n",
    "print(arr.dtype)\n",
    "print(arr.shape)\n",
    "print(arr.ndim)\n",
    "print(arr.size)"
   ]
  },
  {
   "cell_type": "code",
   "execution_count": 48,
   "id": "25044099-854a-4a07-bf88-fb16c340cfb4",
   "metadata": {},
   "outputs": [
    {
     "name": "stdout",
     "output_type": "stream",
     "text": [
      "[[[41.77605521 98.4210094  99.85467496]\n",
      "  [61.35466145 61.88053867 83.05323519]]\n",
      "\n",
      " [[37.37056956  3.78975739 61.98542946]\n",
      "  [69.73491941 39.53820408  2.24448534]]\n",
      "\n",
      " [[57.37115189 77.85417528 55.26436906]\n",
      "  [ 1.0202543  78.53563175 14.86144384]]]\n",
      "<class 'numpy.ndarray'>\n",
      "float64\n",
      "(3, 2, 3)\n",
      "3\n",
      "18\n"
     ]
    }
   ],
   "source": [
    "# np.random.uniform(starting point, end point, shape)    #floating type\n",
    "\n",
    "arr = np.random.uniform(1, 100, (3, 2, 3)) \n",
    "\n",
    "print(arr)\n",
    "print(type(arr))\n",
    "print(arr.dtype)\n",
    "print(arr.shape)\n",
    "print(arr.ndim)\n",
    "print(arr.size)"
   ]
  },
  {
   "cell_type": "markdown",
   "id": "7833e1f7-4e64-4cdc-a83e-d68133363171",
   "metadata": {},
   "source": [
    "### Array Creation From Range"
   ]
  },
  {
   "cell_type": "code",
   "execution_count": 49,
   "id": "b888c4c7-7735-44fb-bb0f-a836da83ec29",
   "metadata": {},
   "outputs": [
    {
     "name": "stdout",
     "output_type": "stream",
     "text": [
      "[1 3 5 7 9]\n",
      "<class 'numpy.ndarray'>\n",
      "int64\n",
      "(5,)\n",
      "1\n",
      "5\n"
     ]
    }
   ],
   "source": [
    "# np.arange(first, end, step)   -> similar to range function\n",
    "\n",
    "arr = np.arange(1, 10, 2)\n",
    "\n",
    "print(arr)\n",
    "print(type(arr))\n",
    "print(arr.dtype)\n",
    "print(arr.shape)\n",
    "print(arr.ndim)\n",
    "print(arr.size)"
   ]
  },
  {
   "cell_type": "code",
   "execution_count": 53,
   "id": "760ab522-edae-456f-b910-c782afca9dfe",
   "metadata": {},
   "outputs": [
    {
     "name": "stdout",
     "output_type": "stream",
     "text": [
      "[[1 2 3]\n",
      " [4 5 6]\n",
      " [7 8 9]]\n",
      "<class 'numpy.ndarray'>\n",
      "int64\n",
      "(3, 3)\n",
      "2\n",
      "9\n"
     ]
    }
   ],
   "source": [
    "#reshape the np.arange()\n",
    "\n",
    "arr = np.arange(1, 10, 1).reshape(3, 3)\n",
    "\n",
    "#mat = arr.reshape(3, 3)\n",
    "\n",
    "print(arr)\n",
    "print(type(arr))\n",
    "print(arr.dtype)\n",
    "print(arr.shape)\n",
    "print(arr.ndim)\n",
    "print(arr.size)"
   ]
  },
  {
   "cell_type": "code",
   "execution_count": 57,
   "id": "71c4858e-0821-437b-8b29-b91495af6ccd",
   "metadata": {},
   "outputs": [
    {
     "name": "stdout",
     "output_type": "stream",
     "text": [
      "[ 1.   1.9  2.8  3.7  4.6  5.5  6.4  7.3  8.2  9.1 10. ]\n",
      "<class 'numpy.ndarray'>\n",
      "float64\n",
      "(11,)\n",
      "1\n",
      "11\n"
     ]
    }
   ],
   "source": [
    "# np.linspace(start, end, amount)\n",
    "\n",
    "arr = np.linspace(1, 10, 11) # it will divide with 0.9 evenly\n",
    "\n",
    "print(arr)\n",
    "print(type(arr))\n",
    "print(arr.dtype)\n",
    "print(arr.shape)\n",
    "print(arr.ndim)\n",
    "print(arr.size)"
   ]
  },
  {
   "cell_type": "code",
   "execution_count": 58,
   "id": "f065a9ae-81fd-40d1-bb10-ae55ac49e5e2",
   "metadata": {},
   "outputs": [
    {
     "name": "stdout",
     "output_type": "stream",
     "text": [
      "[1.00000000e+01 7.94328235e+01 6.30957344e+02 5.01187234e+03\n",
      " 3.98107171e+04 3.16227766e+05 2.51188643e+06 1.99526231e+07\n",
      " 1.58489319e+08 1.25892541e+09 1.00000000e+10]\n",
      "<class 'numpy.ndarray'>\n",
      "float64\n",
      "(11,)\n",
      "1\n",
      "11\n"
     ]
    }
   ],
   "source": [
    "# np.logspace(start, end, amount)\n",
    "\n",
    "arr = np.logspace(1, 10, 11)\n",
    "\n",
    "print(arr)\n",
    "print(type(arr))\n",
    "print(arr.dtype)\n",
    "print(arr.shape)\n",
    "print(arr.ndim)\n",
    "print(arr.size)"
   ]
  },
  {
   "cell_type": "code",
   "execution_count": 59,
   "id": "f5928043-6009-4066-b2a3-903d25616c03",
   "metadata": {},
   "outputs": [
    {
     "name": "stdout",
     "output_type": "stream",
     "text": [
      "[ 1.          1.74110113  3.03143313  5.27803164  9.18958684 16.        ]\n",
      "<class 'numpy.ndarray'>\n",
      "float64\n",
      "(6,)\n",
      "1\n",
      "6\n"
     ]
    }
   ],
   "source": [
    "# np.logspace(start, end, amount)\n",
    "\n",
    "arr = np.logspace(0, 4, 6, base=2)\n",
    "\n",
    "print(arr)\n",
    "print(type(arr))\n",
    "print(arr.dtype)\n",
    "print(arr.shape)\n",
    "print(arr.ndim)\n",
    "print(arr.size)"
   ]
  },
  {
   "cell_type": "markdown",
   "id": "a43241b3-ab79-41c9-8413-e475b95ef46f",
   "metadata": {},
   "source": [
    "### Diagonal Matrix"
   ]
  },
  {
   "cell_type": "code",
   "execution_count": 7,
   "id": "95a177f6-492b-4e58-a17b-fcc78f7ff435",
   "metadata": {},
   "outputs": [
    {
     "name": "stdout",
     "output_type": "stream",
     "text": [
      "[[1 0 0]\n",
      " [0 2 0]\n",
      " [0 0 3]]\n"
     ]
    }
   ],
   "source": [
    "diagonal_matrix = np.diag([1, 2, 3])\n",
    "print(diagonal_matrix)\n"
   ]
  },
  {
   "cell_type": "markdown",
   "id": "354aecc3-8e5d-4527-95d4-65468392e56b",
   "metadata": {},
   "source": [
    "### Identity Matrix"
   ]
  },
  {
   "cell_type": "code",
   "execution_count": 8,
   "id": "7768da8c-6c24-4331-9e57-23080271d257",
   "metadata": {},
   "outputs": [
    {
     "name": "stdout",
     "output_type": "stream",
     "text": [
      "[[1. 0. 0.]\n",
      " [0. 1. 0.]\n",
      " [0. 0. 1.]]\n"
     ]
    }
   ],
   "source": [
    "identity_mat = np.eye(3)\n",
    "print(identity_mat)"
   ]
  },
  {
   "cell_type": "code",
   "execution_count": 9,
   "id": "663f76d7-d50c-4ea6-8a11-e30a555b96ba",
   "metadata": {},
   "outputs": [
    {
     "name": "stdout",
     "output_type": "stream",
     "text": [
      "[[1. 0. 0.]\n",
      " [0. 1. 0.]]\n"
     ]
    }
   ],
   "source": [
    "identity_mat = np.eye(2,3)\n",
    "print(identity_mat)"
   ]
  },
  {
   "cell_type": "code",
   "execution_count": 11,
   "id": "6d8e808b-7a95-45a8-ae6f-233130832f88",
   "metadata": {},
   "outputs": [
    {
     "name": "stdout",
     "output_type": "stream",
     "text": [
      "[[0. 0. 0.]\n",
      " [1. 0. 0.]]\n"
     ]
    }
   ],
   "source": [
    "identity_mat = np.eye(2,3, -1)  # row, col, k\n",
    "print(identity_mat)"
   ]
  },
  {
   "cell_type": "code",
   "execution_count": 12,
   "id": "decdca48-a62f-4545-ab82-56b157f81b4c",
   "metadata": {},
   "outputs": [
    {
     "name": "stdout",
     "output_type": "stream",
     "text": [
      "[[0. 1. 0.]\n",
      " [0. 0. 1.]]\n"
     ]
    }
   ],
   "source": [
    "identity_mat = np.eye(2,3, 1)  # row, col, k\n",
    "print(identity_mat)"
   ]
  },
  {
   "cell_type": "markdown",
   "id": "5500ad4a-6961-4645-800a-76a436064fb3",
   "metadata": {},
   "source": [
    "### Indexing and Slicing"
   ]
  },
  {
   "cell_type": "code",
   "execution_count": 3,
   "id": "5183bffe-8352-4df1-a860-0e05eddbb5d7",
   "metadata": {},
   "outputs": [
    {
     "name": "stdout",
     "output_type": "stream",
     "text": [
      "[  1   2 100   4   5]\n"
     ]
    }
   ],
   "source": [
    "import numpy as np\n",
    "\n",
    "arr1 = np.array([1, 2, 3, 4, 5])\n",
    "\n",
    "arr1[2] = 100\n",
    "print(arr1)"
   ]
  },
  {
   "cell_type": "code",
   "execution_count": 4,
   "id": "42fee447-b255-4e87-89ac-b81ed2a0600a",
   "metadata": {},
   "outputs": [
    {
     "name": "stdout",
     "output_type": "stream",
     "text": [
      "2\n"
     ]
    }
   ],
   "source": [
    "arr2 = np.array([\n",
    "    [1, 2, 3],\n",
    "    [4, 5, 6]\n",
    "])\n",
    "print(arr2[0][1])"
   ]
  },
  {
   "cell_type": "code",
   "execution_count": 8,
   "id": "be7660f6-2f6d-44b3-af0e-9ec37e0915b6",
   "metadata": {},
   "outputs": [
    {
     "name": "stdout",
     "output_type": "stream",
     "text": [
      "[  1   2 100]\n"
     ]
    }
   ],
   "source": [
    "#slicing  [start:end:step]\n",
    "\n",
    "arr1 = arr1[0:3]\n",
    "print(arr1)"
   ]
  },
  {
   "cell_type": "code",
   "execution_count": 23,
   "id": "5fc5f0f1-b992-4599-b1e2-cca15f3c3d90",
   "metadata": {},
   "outputs": [
    {
     "name": "stdout",
     "output_type": "stream",
     "text": [
      "[[1 2 3]]\n",
      "[[4 5 6]]\n",
      "[[1]\n",
      " [4]]\n",
      "[[2]\n",
      " [5]]\n",
      "[[3]\n",
      " [6]]\n"
     ]
    }
   ],
   "source": [
    "# arr[row_start : row_end : step , col_start : col_end : col_step]\n",
    "\n",
    "arr2 = np.array([\n",
    "    [1, 2, 3],\n",
    "    [4, 5, 6]\n",
    "])\n",
    "\n",
    "row_0 = arr2[0:1, ]\n",
    "print(row_0)\n",
    "\n",
    "row_1 = arr2[1: , ]\n",
    "print(row_1)\n",
    "\n",
    "\n",
    "col_0 = arr2[::, 0 : 1]\n",
    "print(col_0)\n",
    "\n",
    "col_1 = arr2[::, 1 : 2]\n",
    "print(col_1)\n",
    "\n",
    "col_2 = arr2[::, 2::]\n",
    "print(col_2)"
   ]
  },
  {
   "cell_type": "code",
   "execution_count": 24,
   "id": "30776790-d64f-4365-b3e1-1acb51ed59e9",
   "metadata": {},
   "outputs": [
    {
     "name": "stdout",
     "output_type": "stream",
     "text": [
      "[[1 2]\n",
      " [4 5]]\n"
     ]
    }
   ],
   "source": [
    "arr2 = np.array([\n",
    "    [1, 2, 3],\n",
    "    [4, 5, 6]\n",
    "])\n",
    "\n",
    "portion = arr2[::, 0:2]\n",
    "print(portion)"
   ]
  },
  {
   "cell_type": "code",
   "execution_count": 28,
   "id": "77ba3bc8-e48d-48c6-bda8-d485bdc82487",
   "metadata": {},
   "outputs": [
    {
     "name": "stdout",
     "output_type": "stream",
     "text": [
      "[1 2 3 4 5]\n",
      "[  1 100   3]\n"
     ]
    }
   ],
   "source": [
    "# copy\n",
    "\n",
    "arr1 = np.array([1, 2, 3, 4, 5])\n",
    "\n",
    "arr1_mod = arr1[0:3].copy()\n",
    "arr1_mod[1] = 100\n",
    "\n",
    "print(arr1)\n",
    "print(arr1_mod)\n",
    "\n",
    "#this way it won't change the main array"
   ]
  },
  {
   "cell_type": "markdown",
   "id": "441891d7-e31e-441e-bd1b-d223caaa9052",
   "metadata": {},
   "source": [
    "### Advanced Indexing"
   ]
  },
  {
   "cell_type": "code",
   "execution_count": 32,
   "id": "6ed8464b-af4c-4291-83bb-8676a21570a6",
   "metadata": {},
   "outputs": [
    {
     "name": "stdout",
     "output_type": "stream",
     "text": [
      "[2 4 5]\n"
     ]
    }
   ],
   "source": [
    "lst = np.array([1, 2, 3, 4, 5])\n",
    "print(lst[[1, 3, 4]])"
   ]
  },
  {
   "cell_type": "code",
   "execution_count": 36,
   "id": "d53a61d5-4aa5-47a6-90e4-d11cb53cc585",
   "metadata": {},
   "outputs": [
    {
     "name": "stdout",
     "output_type": "stream",
     "text": [
      "[2 6]\n"
     ]
    }
   ],
   "source": [
    "arr2 = np.array([\n",
    "    [1, 2, 3],\n",
    "    [4, 5, 6]\n",
    "])\n",
    "\n",
    "print(arr2[[0,1], [1,2]])"
   ]
  },
  {
   "cell_type": "code",
   "execution_count": 37,
   "id": "d1bb9415-faf9-4e04-90e4-4b1a0d845382",
   "metadata": {},
   "outputs": [
    {
     "name": "stdout",
     "output_type": "stream",
     "text": [
      "[3 4 5 6]\n"
     ]
    }
   ],
   "source": [
    "# values greater than 2 in array 2\n",
    "arr2 = np.array([\n",
    "    [1, 2, 3],\n",
    "    [4, 5, 6]\n",
    "])\n",
    "\n",
    "print(arr2[arr2>2])"
   ]
  },
  {
   "cell_type": "code",
   "execution_count": 38,
   "id": "e6007079-676b-4154-af28-021e95383149",
   "metadata": {},
   "outputs": [
    {
     "name": "stdout",
     "output_type": "stream",
     "text": [
      "[[1 2 0]\n",
      " [0 0 0]]\n"
     ]
    }
   ],
   "source": [
    "#using boolean\n",
    "\n",
    "arr2[arr2>2] = 0\n",
    "print(arr2)"
   ]
  },
  {
   "cell_type": "code",
   "execution_count": 40,
   "id": "632f701d-b3aa-4696-b842-fd8bd44fc7ca",
   "metadata": {},
   "outputs": [
    {
     "name": "stdout",
     "output_type": "stream",
     "text": [
      "[1 2 3]\n",
      "[4 5 6]\n"
     ]
    }
   ],
   "source": [
    "arr2 = np.array([\n",
    "    [1, 2, 3],\n",
    "    [4, 5, 6]\n",
    "])\n",
    "\n",
    "#iteration \n",
    "for x in arr2:\n",
    "    print(x)"
   ]
  },
  {
   "cell_type": "code",
   "execution_count": 42,
   "id": "70598fbf-0442-4d45-9c7f-cee9ec623ed5",
   "metadata": {},
   "outputs": [
    {
     "name": "stdout",
     "output_type": "stream",
     "text": [
      "1\n",
      "2\n",
      "3\n",
      "4\n",
      "5\n",
      "6\n"
     ]
    }
   ],
   "source": [
    "arr2 = np.array([\n",
    "    [1, 2, 3],\n",
    "    [4, 5, 6]\n",
    "])\n",
    "\n",
    "#iteration \n",
    "for i in arr2:\n",
    "    for j in i:\n",
    "        print(j)"
   ]
  },
  {
   "cell_type": "code",
   "execution_count": 43,
   "id": "2b40cb63-2e9b-4c22-96df-263d5fc21afc",
   "metadata": {},
   "outputs": [
    {
     "name": "stdout",
     "output_type": "stream",
     "text": [
      "1\n",
      "2\n",
      "3\n",
      "4\n",
      "5\n",
      "6\n"
     ]
    }
   ],
   "source": [
    "# nditerator\n",
    "\n",
    "arr2 = np.array([\n",
    "    [1, 2, 3],\n",
    "    [4, 5, 6]\n",
    "])\n",
    "\n",
    "#iteration \n",
    "for i in np.nditer(arr2):\n",
    "    print(i)"
   ]
  },
  {
   "cell_type": "markdown",
   "id": "47cb0ec7-e324-482e-b08c-1f0a7eb0e34f",
   "metadata": {},
   "source": [
    "### You have a list of temperatures recorded in Celsius. Your task is to:\n",
    "#### Create a NumPy array from the given list.\n",
    "#### Convert all temperatures from Celsius to Fahrenheit. The formula is F = C* 1.8 + 32.\n",
    "#### Print the new Fahrenheit array."
   ]
  },
  {
   "cell_type": "code",
   "execution_count": 47,
   "id": "18031296-9550-426e-aeae-15c63998fabe",
   "metadata": {},
   "outputs": [
    {
     "name": "stdout",
     "output_type": "stream",
     "text": [
      "[100.4  89.6  82.4 104.  105.8]\n"
     ]
    }
   ],
   "source": [
    "import numpy as np\n",
    "\n",
    "nump_arr = np.array([38, 32, 28, 40, 41])\n",
    "\n",
    "fahrenheit_scale = nump_arr * 1.8 + 32\n",
    "print(fahrenheit_scale)"
   ]
  },
  {
   "cell_type": "markdown",
   "id": "111a479d-618f-46e6-b805-f16ecc31f0b8",
   "metadata": {},
   "source": [
    "### You have a Python list containing the lap times (in seconds) for an athlete.\n",
    "\n",
    "### Task:\n",
    "\n",
    "#### Convert the list into a NumPy array.\n",
    "#### Print the array's shape, size, and data type.\n",
    "#### The athlete wants to see their times in minutes. Create a new array by dividing all the lap times by 60.\n",
    "#Print the new array of lap times in minutes.\n"
   ]
  }
 ],
 "metadata": {
  "kernelspec": {
   "display_name": "Python [conda env:base] *",
   "language": "python",
   "name": "conda-base-py"
  },
  "language_info": {
   "codemirror_mode": {
    "name": "ipython",
    "version": 3
   },
   "file_extension": ".py",
   "mimetype": "text/x-python",
   "name": "python",
   "nbconvert_exporter": "python",
   "pygments_lexer": "ipython3",
   "version": "3.13.5"
  }
 },
 "nbformat": 4,
 "nbformat_minor": 5
}
